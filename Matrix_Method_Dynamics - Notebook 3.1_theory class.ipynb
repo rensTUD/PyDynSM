{
 "cells": [
  {
   "cell_type": "markdown",
   "id": "dd33e448",
   "metadata": {},
   "source": [
    "<figure>\n",
    "  <IMG SRC=\"https://raw.githubusercontent.com/fmeer/public-files/main/TUlogo.png\" WIDTH=200 ALIGN=\"right\">\n",
    "</figure>\n",
    "\n",
    "# Coding the Matrix Method in Python - Notebook 3.1 (In-class examples)\n",
    "    \n",
    "In this notebook we discuss the implementation in Python of the theory discussed in Lecture 3 (Q3). We start by defining the classes and performing some sanity checks on simple bars and beams. We then move on to a more complicated frame structure."
   ]
  },
  {
   "cell_type": "code",
   "execution_count": 1,
   "id": "b722b47e",
   "metadata": {
    "tags": []
   },
   "outputs": [],
   "source": [
    "import numpy as np\n",
    "import matplotlib.pyplot as plt"
   ]
  },
  {
   "cell_type": "markdown",
   "id": "d8738dcb",
   "metadata": {},
   "source": [
    "## The Node class\n",
    "The purpose of this class is to store node information and keep track of the total number of DOFs of the problem. Note the automatic bookkeeping we introduce in `__init__`. This simple but efficient way of keeping track of which DOFs belong to which nodes will make life much easier when we need to assemble matrices from multiple elements. **The code below does not need any modification**."
   ]
  },
  {
   "cell_type": "code",
   "execution_count": 2,
   "id": "042720c6",
   "metadata": {},
   "outputs": [],
   "source": [
    "class Node:\n",
    "    ndof = 0 + 5\n",
    "    nn   = 0\n",
    "    \n",
    "    def clear():\n",
    "        Node.ndof = 0\n",
    "        Node.nn = 0\n",
    "        \n",
    "    def __init__ (self, x, y):  \n",
    "        self.x     = x\n",
    "        self.y     = y\n",
    "        self.p     = np.zeros(3)\n",
    "\n",
    "        self.dofs  = [Node.ndof, Node.ndof+1, Node.ndof+2]\n",
    "\n",
    "        Node.ndof += 3\n",
    "        Node.nn   += 1\n",
    "\n",
    "    def add_load (self, p):  \n",
    "        self.p += p"
   ]
  },
  {
   "cell_type": "markdown",
   "id": "291a988e",
   "metadata": {},
   "source": [
    "## The Element class\n",
    "This class keeps track of each element in the model, including:\n",
    "- Cross-section properties\n",
    "- Element orientation (for coordinate system transformations)\n",
    "- Which Nodes make up each element, and in turn (with help of the Node class) which DOFs belong to each element\n",
    "\n",
    "Apart from bookkeeping element data, the other main task of this class is to provide the element stiffness matrix in the global coordinate system (for subsequent assembly) and postprocess element-level fields.\n",
    "\n",
    "Here the class describes an element combining extension and Euler-Bernoulli bending in dynamics. A similar (or inherited) class could also be implemented for different element types (*e.g.* Timoshenko beam, tensioned string, rod in torsion, etc). Here we also keep it simple by assuming elements are all arranged in a 2D plane. \n",
    "\n",
    "Please note that, in contrast to statics, the dynamic characterisation of the elements requires the dependency on the excitation frequency which is introduced by the variable \"omega\". Moreover, all structural systems have damping which is here introduced through the variable \"ksi\" into the elasticity modulus of the element."
   ]
  },
  {
   "cell_type": "code",
   "execution_count": 3,
   "id": "2527e2a0",
   "metadata": {},
   "outputs": [],
   "source": [
    "class Element:\n",
    "    ne = 0\n",
    "\n",
    "    def clear():\n",
    "        Element.ne = 0\n",
    "        \n",
    "    def __init__ (self, nodes):\n",
    "        self.nodes = nodes\n",
    "\n",
    "        self.L = np.sqrt((nodes[1].x - nodes[0].x)**2.0 + (nodes[1].y - nodes[0].y)**2.0)\n",
    "\n",
    "        dx = nodes[1].x - nodes[0].x\n",
    "        dy = nodes[1].y - nodes[0].y\n",
    "\n",
    "        self.cos = dx / self.L\n",
    "        self.sin = dy / self.L\n",
    "\n",
    "        R = np.zeros ((6,6))\n",
    "\n",
    "        R[0,0] = R[1,1] = R[3,3] = R[4,4] = self.cos\n",
    "        R[0,1] = R[3,4] = -self.sin\n",
    "        R[1,0] = R[4,3] =  self.sin\n",
    "        R[2,2] = R[5,5] = 1.0\n",
    "        \n",
    "        self.R  = R\n",
    "        self.Rt = np.transpose(R)\n",
    "\n",
    "        Element.ne += 1\n",
    "\n",
    "    def set_section (self, props):\n",
    "        \n",
    "        if 'EA' in props:\n",
    "            self.EA = props['EA']\n",
    "        else:\n",
    "            self.EA = 1.e20\n",
    "            \n",
    "        if 'ksi' in props: # MODIFIED\n",
    "            self.ksi = props['ksi'] # MODIFIED\n",
    "        else: # MODIFIED\n",
    "            self.ksi = 0.01  # MODIFIED\n",
    "            \n",
    "        if 'rhoA' in props:  # MODIFIED\n",
    "            self.rhoA = props['rhoA']  # MODIFIED\n",
    "        else:  # MODIFIED\n",
    "            self.rhoA = 1.e20  # MODIFIED\n",
    "            \n",
    "        if 'EI' in props:\n",
    "            self.EI = props['EI']\n",
    "        else:\n",
    "            self.EI = 1.e20\n",
    "            \n",
    "        if 'omega' in props:  # MODIFIED\n",
    "            self.omega = props['omega']  # MODIFIED\n",
    "        else:   # MODIFIED\n",
    "            self.omega = 1.e20  # MODIFIED\n",
    "\n",
    "    def global_dofs  (self):\n",
    "        return np.hstack ((self.nodes[0].dofs, self.nodes[1].dofs))\n",
    "\n",
    "    def stiffness ( self ):\n",
    "        \n",
    "        k = np.zeros ((6, 6), dtype=complex) # MODIFIED\n",
    "        \n",
    "        ksi = self.ksi # MODIFIED\n",
    "        EA = self.EA * (1 + 2j * ksi) # MODIFIED\n",
    "        rhoA = self.rhoA  # MODIFIED \n",
    "        EI = self.EI * (1 + 2j * ksi) # MODIFIED\n",
    "        L = self.L\n",
    "        omega = self.omega  # MODIFIED\n",
    "        c_r = (EA/rhoA) ** 0.5  # MODIFIED\n",
    "        beta_r = omega / c_r  # MODIFIED\n",
    "        beta_b = (omega**2 * rhoA / EI) ** 0.25  # MODIFIED\n",
    "\n",
    "        # Extension contribution\n",
    "\n",
    "        k[0,0] = k[3,3] = EA * beta_r * np.cos(beta_r * L) / np.sin(beta_r * L)   # MODIFIED\n",
    "        k[3,0] = k[0,3] = - EA * beta_r / np.sin(beta_r * L) # MODIFIED\n",
    "\n",
    "        # Bending contribution\n",
    "        \n",
    "        K_beam = np.array([[-EI * beta_b ** 3 * (np.cosh(beta_b * L) * np.sin(beta_b * L) + np.sinh(beta_b * L) * np.cos(beta_b * L)) / (np.cosh(beta_b * L) * np.cos(beta_b * L) - 1),EI * np.sinh(beta_b * L) * np.sin(beta_b * L) * beta_b ** 2 / (np.cosh(beta_b * L) * np.cos(beta_b * L) - 1),EI * beta_b ** 3 * (np.sinh(beta_b * L) + np.sin(beta_b * L)) / (np.cosh(beta_b * L) * np.cos(beta_b * L) - 1),EI * beta_b ** 2 * (np.cosh(beta_b * L) - np.cos(beta_b * L)) / (np.cosh(beta_b * L) * np.cos(beta_b * L) - 1)],[EI * np.sinh(beta_b * L) * np.sin(beta_b * L) * beta_b ** 2 / (np.cosh(beta_b * L) * np.cos(beta_b * L) - 1),EI * beta_b * (-np.cosh(beta_b * L) * np.sin(beta_b * L) + np.sinh(beta_b * L) * np.cos(beta_b * L)) / (np.cosh(beta_b * L) * np.cos(beta_b * L) - 1),EI * beta_b ** 2 * (-np.cosh(beta_b * L) + np.cos(beta_b * L)) / (np.cosh(beta_b * L) * np.cos(beta_b * L) - 1),EI * beta_b * (-np.sinh(beta_b * L) + np.sin(beta_b * L)) / (np.cosh(beta_b * L) * np.cos(beta_b * L) - 1)],[EI * beta_b ** 3 * (np.sinh(beta_b * L) + np.sin(beta_b * L)) / (np.cosh(beta_b * L) * np.cos(beta_b * L) - 1),EI * beta_b ** 2 * (-np.cosh(beta_b * L) + np.cos(beta_b * L)) / (np.cosh(beta_b * L) * np.cos(beta_b * L) - 1),-EI * beta_b ** 3 * (np.cosh(beta_b * L) * np.sin(beta_b * L) + np.sinh(beta_b * L) * np.cos(beta_b * L)) / (np.cosh(beta_b * L) * np.cos(beta_b * L) - 1),-EI * np.sinh(beta_b * L) * np.sin(beta_b * L) * beta_b ** 2 / (np.cosh(beta_b * L) * np.cos(beta_b * L) - 1)],[EI * beta_b ** 2 * (np.cosh(beta_b * L) - np.cos(beta_b * L)) / (np.cosh(beta_b * L) * np.cos(beta_b * L) - 1),EI * beta_b * (-np.sinh(beta_b * L) + np.sin(beta_b * L)) / (np.cosh(beta_b * L) * np.cos(beta_b * L) - 1),-EI * np.sinh(beta_b * L) * np.sin(beta_b * L) * beta_b ** 2 / (np.cosh(beta_b * L) * np.cos(beta_b * L) - 1),EI * beta_b * (-np.cosh(beta_b * L) * np.sin(beta_b * L) + np.sinh(beta_b * L) * np.cos(beta_b * L)) / (np.cosh(beta_b * L) * np.cos(beta_b * L) - 1)]])\n",
    "\n",
    "        k[1,1] = K_beam[0,0]\n",
    "        k[1,2] = K_beam[0,1]\n",
    "        k[1,4] = K_beam[0,2]\n",
    "        k[1,5] = K_beam[0,3]\n",
    "        k[2,1] = K_beam[1,0]\n",
    "        k[2,2] = K_beam[1,1]\n",
    "        k[2,4] = K_beam[1,2]\n",
    "        k[2,5] = K_beam[1,3]\n",
    "        k[4,1] = K_beam[2,0]\n",
    "        k[4,2] = K_beam[2,1]\n",
    "        k[4,4] = K_beam[2,2]\n",
    "        k[4,5] = K_beam[2,3]\n",
    "        k[5,1] = K_beam[3,0]\n",
    "        k[5,2] = K_beam[3,1]\n",
    "        k[5,4] = K_beam[3,2]\n",
    "        k[5,5] = K_beam[3,3]\n",
    "        \n",
    "        #k[1,1] = k[4,4] =  12.0 * EI / L / L / L\n",
    "        #k[1,4] = k[4,1] = -12.0 * EI / L / L / L\n",
    "        #k[1,2] = k[2,1] = k[1,5] = k[5,1] = -6.0 * EI / L / L\n",
    "        #k[2,4] = k[4,2] = k[4,5] = k[5,4] = 6.0 * EI / L / L\n",
    "        #k[2,2] = k[5,5] = 4.0 * EI / L\n",
    "        #k[2,5] = k[5,2] = 2.0 * EI / L\n",
    "\n",
    "        return np.matmul ( np.matmul ( self.Rt, k ), self.R )"
   ]
  },
  {
   "cell_type": "markdown",
   "id": "0efec2e4",
   "metadata": {},
   "source": [
    "## The Constrainer class\n",
    "\n",
    "This small class keeps track of which DOFs have prescribed displacements and takes care of applying these constraints to the global $\\mathbf{K}$ and $\\mathbf{f}$. For now we keep it simple and assume all constraints fix the DOF values to zero. For the first two examples you can use this class as it is. For the third assignment, a short new function should be implemented (see below)."
   ]
  },
  {
   "cell_type": "code",
   "execution_count": 4,
   "id": "afaf2f24",
   "metadata": {},
   "outputs": [],
   "source": [
    "class Constrainer:\n",
    "    def __init__ (self):\n",
    "        self.dofs = []\n",
    "\n",
    "    def fix_dof (self, node, dof):\n",
    "        self.dofs.append (node.dofs[dof])\n",
    " \n",
    "    def fix_node (self, node):\n",
    "        for dof in node.dofs:\n",
    "            self.dofs.append (dof)       \n",
    "\n",
    "    def constrain (self, k, f):\n",
    "        kc = np.copy (k)\n",
    "        fc = np.copy (f)\n",
    "        \n",
    "        for dof in self.dofs:\n",
    "            fc[dof] = 0.0\n",
    "            kc[:,dof] = kc[dof,:] = 0.0\n",
    "            kc[dof,dof]           = 1.0\n",
    "\n",
    "        return kc, fc"
   ]
  },
  {
   "cell_type": "markdown",
   "id": "c0c4d7c4",
   "metadata": {},
   "source": [
    "## Sanity check #1: Bar in extension\n",
    "\n",
    "Having made our implementations, we now check them with two simple examples that serve as sanity checks. The first is a simple bar undergoing extension:"
   ]
  },
  {
   "cell_type": "markdown",
   "id": "25b38a3f",
   "metadata": {},
   "source": [
    "<center><figure>\n",
    "  <IMG SRC=\"https://raw.githubusercontent.com/ibcmrocha/public/main/extpointload.png\" WIDTH=200 ALIGN=\"center\">\n",
    "      </figure></center>"
   ]
  },
  {
   "cell_type": "markdown",
   "id": "cea6b1fb",
   "metadata": {},
   "source": [
    "Use the code blocks below to set up and solve this problem using the classes above."
   ]
  },
  {
   "cell_type": "markdown",
   "id": "b5200d7c",
   "metadata": {
    "tags": []
   },
   "source": [
    "### Parameters\n",
    "\n",
    "We define the parameters here for convenience. We also use the `clear` functions to restart the node, element and DOF counters. Make sure this is done whenever you start solving a new problem."
   ]
  },
  {
   "cell_type": "code",
   "execution_count": 12,
   "id": "8e136863",
   "metadata": {},
   "outputs": [],
   "source": [
    "EA = 7e6\n",
    "EI = 1.5 * 7e06 # MODIFIED\n",
    "rhoA = 1e03  # MODIFIED\n",
    "F  = 1e06 # MODIFIED\n",
    "L  = 1\n",
    "omega = 100  # MODIFIED\n",
    "ksi = 0.01 # MODIFIED\n",
    "\n",
    "Node.clear()\n",
    "Element.clear()"
   ]
  },
  {
   "cell_type": "markdown",
   "id": "4ffeadc7",
   "metadata": {},
   "source": [
    "### Create nodes\n",
    "\n",
    "Create two nodes here. You can store them on a `list` or simply create them as two separate objects (*e.g.* `node1` and `node2`). \n",
    "\n",
    "**TIP**: Take a look at which arguments the `__init__` function of the `Node` class receives!"
   ]
  },
  {
   "cell_type": "code",
   "execution_count": 13,
   "id": "c69cd093",
   "metadata": {},
   "outputs": [],
   "source": [
    "node1 = Node (0,0)\n",
    "node2 = Node (L,0)"
   ]
  },
  {
   "cell_type": "markdown",
   "id": "bc014514",
   "metadata": {},
   "source": [
    "### Create element\n",
    "\n",
    "Here we only have a single element, so there is no need to store it in a `list` yet. You are also going to need a `dict` defining the cross-section of the element.\n",
    "\n",
    "**TIP**: See what `__init__` of the `Element` class expects. Also check the `set_section` function."
   ]
  },
  {
   "cell_type": "code",
   "execution_count": 14,
   "id": "fb467a14",
   "metadata": {},
   "outputs": [],
   "source": [
    "elem = Element ( [node1, node2] )\n",
    "\n",
    "section = {}\n",
    "section['EA'] = EA\n",
    "section['EI'] = EI\n",
    "section['ksi'] = ksi  # MODIFIED\n",
    "section['rhoA'] = rhoA  # MODIFIED\n",
    "section['omega'] = omega  # MODIFIED\n",
    "\n",
    "elem.set_section (section)"
   ]
  },
  {
   "cell_type": "markdown",
   "id": "cf633d4d",
   "metadata": {},
   "source": [
    "### Set boundary conditions\n",
    "\n",
    "We create an instance of the `Constrainer` class to deal with prescribed displacements. Take a look at its functions and inform it Node 1 is fully fixed.\n",
    "\n",
    "**TIP**: You also need to pass the load $F$ on to Node 2. Check the member functions of `Node` to infer how that should be done."
   ]
  },
  {
   "cell_type": "code",
   "execution_count": 15,
   "id": "8e108851",
   "metadata": {},
   "outputs": [],
   "source": [
    "con = Constrainer()\n",
    "\n",
    "con.fix_node (node1)\n",
    "node2.add_load ([F,0,0])"
   ]
  },
  {
   "cell_type": "markdown",
   "id": "9fc6401d",
   "metadata": {},
   "source": [
    "### Assemble the system of equations\n",
    "\n",
    "Since we only have one element, there is no real assembly to be performed other than getting the stiffness matrix of the single element and storing the load at Node 2 in the correct positions of $\\mathbf{f}$. To avoid confusion, we do this part for you. Just take care to change the name of the element or of Node 2 in case you used something different."
   ]
  },
  {
   "cell_type": "code",
   "execution_count": 16,
   "id": "2103c052",
   "metadata": {},
   "outputs": [
    {
     "name": "stdout",
     "output_type": "stream",
     "text": [
      "[      0.       0.       0. 1000000.       0.       0.]\n"
     ]
    }
   ],
   "source": [
    "global_k = elem.stiffness()\n",
    "global_f = np.zeros (6)\n",
    "\n",
    "global_f[3:6] = node2.p \n",
    "#print(global_k)\n",
    "print(global_f)"
   ]
  },
  {
   "cell_type": "markdown",
   "id": "924b588b",
   "metadata": {},
   "source": [
    "### Constrain the problem and solve for nodal displacements\n",
    "\n",
    "Try to solve for $u$ as it is written in this block. You will notice that `global_k` is singular. Why is that the case? \n",
    "\n",
    "**TIP**: Use the `Constrainer` class to fix that! It already knows three of our DOFs are fixed to zero, you should just let it make the necessary changes to $\\mathbf{K}$ and $\\mathbf{f}$."
   ]
  },
  {
   "cell_type": "code",
   "execution_count": 17,
   "id": "449a7bae",
   "metadata": {},
   "outputs": [
    {
     "name": "stdout",
     "output_type": "stream",
     "text": [
      "[0.        +0.j         0.        +0.j         0.        +0.j\n",
      " 0.30250885-0.01361971j 0.        +0.j         0.        +0.j        ]\n"
     ]
    }
   ],
   "source": [
    "Kc, Fc = con.constrain ( global_k, global_f )\n",
    "u = np.matmul ( np.linalg.inv(Kc), Fc )\n",
    "print(u)"
   ]
  },
  {
   "cell_type": "markdown",
   "id": "d13473c2",
   "metadata": {},
   "source": [
    "### Compare with the solution you know\n",
    "\n",
    "Finally, compare the displacement at the end of the bar with the one coming from the ODE solution. Note that $\\mathbf{u}$ has six entries!\n",
    "\n",
    "**TIP**: Remember the DOF ordering we assume ($\\left[u\\,\\,w\\,\\,\\varphi\\right]$) and the order we use to create our nodes (check `__init__` of the `Node` class one more time!)"
   ]
  },
  {
   "cell_type": "code",
   "execution_count": 18,
   "id": "12266487",
   "metadata": {},
   "outputs": [
    {
     "name": "stdout",
     "output_type": "stream",
     "text": [
      "ODE solution (0.30250884529318846290, - 0.013619705006987083063 j) Matrix method solution (0.30250884529318856-0.013619705006987096j)\n"
     ]
    }
   ],
   "source": [
    "print('ODE solution (0.30250884529318846290, - 0.013619705006987083063 j)','Matrix method solution',u[3]) \n",
    "# CHECK MAPLE FILE FOR ANALYTICAL DERIVATIONS"
   ]
  },
  {
   "cell_type": "markdown",
   "id": "d8da0a77",
   "metadata": {},
   "source": [
    "## Sanity check #2: Cantilever beam\n",
    "\n",
    "<center><figure>\n",
    "  <IMG SRC=\"https://raw.githubusercontent.com/ibcmrocha/public/main/cantilever.png\" WIDTH=200 ALIGN=\"center\">\n",
    "      </figure></center>\n",
    "    \n",
    "In the first example above we tested our model under extension. But that does not really guarantee it will behave correctly in bending! That is the goal of this second sanity check. Proceed as before and check with the MAPLE solution:\n",
    "    \n",
    "When setting up and solving your model, note that we are now interested in $w$ displacements, our load is now vertical."
   ]
  },
  {
   "cell_type": "markdown",
   "id": "5e9fd53a",
   "metadata": {
    "tags": []
   },
   "source": [
    "### Parameters"
   ]
  },
  {
   "cell_type": "code",
   "execution_count": 12,
   "id": "61000abf",
   "metadata": {},
   "outputs": [],
   "source": [
    "EA = 7e6\n",
    "EI = 1.5 * 7e06 # MODIFIED\n",
    "rhoA = 1e03  # MODIFIED\n",
    "F  = 1e06 # MODIFIED\n",
    "L  = 1\n",
    "omega = 100  # MODIFIED\n",
    "ksi = 0.01 # MODIFIED\n",
    "\n",
    "Node.clear()\n",
    "Element.clear()"
   ]
  },
  {
   "cell_type": "markdown",
   "id": "d1486988",
   "metadata": {},
   "source": [
    "### Create nodes"
   ]
  },
  {
   "cell_type": "code",
   "execution_count": 13,
   "id": "ab398b5d",
   "metadata": {},
   "outputs": [],
   "source": [
    "node1 = Node (0,0)\n",
    "node2 = Node (L,0)"
   ]
  },
  {
   "cell_type": "markdown",
   "id": "9a3e3fc8",
   "metadata": {},
   "source": [
    "### Create element"
   ]
  },
  {
   "cell_type": "code",
   "execution_count": 14,
   "id": "47336c87",
   "metadata": {},
   "outputs": [],
   "source": [
    "elem = Element ( [node1, node2] )\n",
    "\n",
    "section = {}\n",
    "section['EA'] = EA\n",
    "section['EI'] = EI\n",
    "section['ksi'] = ksi  # MODIFIED\n",
    "section['rhoA'] = rhoA  # MODIFIED\n",
    "section['omega'] = omega  # MODIFIED\n",
    "\n",
    "elem.set_section (section)"
   ]
  },
  {
   "cell_type": "markdown",
   "id": "0c473cfc",
   "metadata": {},
   "source": [
    "### Set boundary conditions"
   ]
  },
  {
   "cell_type": "code",
   "execution_count": 15,
   "id": "2fd3ff9b",
   "metadata": {},
   "outputs": [],
   "source": [
    "con = Constrainer()\n",
    "\n",
    "con.fix_node (node1)\n",
    "node2.add_load ([0,F,0])"
   ]
  },
  {
   "cell_type": "markdown",
   "id": "1f8835f8",
   "metadata": {},
   "source": [
    "### Assemble the system of equations"
   ]
  },
  {
   "cell_type": "code",
   "execution_count": 16,
   "id": "41fddb26",
   "metadata": {},
   "outputs": [],
   "source": [
    "global_k = elem.stiffness()\n",
    "global_f = np.zeros (6)\n",
    "\n",
    "global_f[0:3] = node1.p\n",
    "global_f[3:6] = node2.p"
   ]
  },
  {
   "cell_type": "markdown",
   "id": "b225f255",
   "metadata": {},
   "source": [
    "### Constrain the problem and solve for nodal displacements"
   ]
  },
  {
   "cell_type": "code",
   "execution_count": 17,
   "id": "eed9d5dc",
   "metadata": {},
   "outputs": [
    {
     "name": "stdout",
     "output_type": "stream",
     "text": [
      "[ 0.        +0.j          0.        +0.j          0.        +0.j\n",
      "  0.        +0.j          0.0343037 -0.00074182j -0.05114355+0.00109971j]\n"
     ]
    }
   ],
   "source": [
    "Kc, Fc = con.constrain ( global_k, global_f )\n",
    "u = np.matmul ( np.linalg.inv(Kc), Fc )\n",
    "print(u)"
   ]
  },
  {
   "cell_type": "markdown",
   "id": "ae9d0bb5",
   "metadata": {},
   "source": [
    "### Check with the solution you know"
   ]
  },
  {
   "cell_type": "code",
   "execution_count": 18,
   "id": "fe46d481",
   "metadata": {
    "tags": []
   },
   "outputs": [
    {
     "name": "stdout",
     "output_type": "stream",
     "text": [
      "Analytical solution: (0.0343036985883241-0.000741815967655428j) Matrix method solution (0.03430369858832389-0.000741815967655428j)\n"
     ]
    }
   ],
   "source": [
    "print('Analytical solution: (0.0343036985883241-0.000741815967655428j)','Matrix method solution',u[4])"
   ]
  },
  {
   "cell_type": "markdown",
   "id": "88e6e804",
   "metadata": {},
   "source": [
    "## Sanity check #3: In-plane frame"
   ]
  },
  {
   "cell_type": "markdown",
   "id": "6654b483",
   "metadata": {},
   "source": [
    "<center><figure>\n",
    "  <IMG SRC=\"https://raw.githubusercontent.com/ibcmrocha/public/main/vierendeel.png\" WIDTH=400 ALIGN=\"center\">\n",
    "      </figure></center>"
   ]
  },
  {
   "cell_type": "markdown",
   "id": "41aaf27b",
   "metadata": {},
   "source": [
    "In order to solve the problem, you need to improve the classes we define above:\n",
    "- Right now elements are not rotated to the global system. Implement the correct rotation matrix in the `__init__` function of the `Element` class in order to allow for members with different orientations\n",
    "- At the moment the `Constrainer` class can only fix all DOFs of a node. Implement a more flexible `fix_dof` function that allows for only certain DOFs to be fixed. Remember our classes assume the DOF order $\\left[u\\,\\, w\\,\\,\\varphi\\right]$ that should always be consistent throughout the implementation\n",
    "\n",
    "Additionally, note that the sanity checks above only had a single element. For this model you need to obtain $\\mathbf{K}$ and $\\mathbf{f}$ of all elements and add them to the correct locations in the global stiffness matrix and force vector. To do that, make use of the `global_dofs` function of the Element class and the `np.ix_` Numpy utility function. (**TIP**: refer back to the contents of week 2.2 of MUDE!)\n",
    "\n",
    "You can use the blocks below to develop your answer. Feel free to create new Markdown headers as needed, but otherwise use the ones provided to split your solution into logical parts."
   ]
  },
  {
   "cell_type": "markdown",
   "id": "0aae075e",
   "metadata": {},
   "source": [
    "### Parameters"
   ]
  },
  {
   "cell_type": "code",
   "execution_count": 19,
   "id": "d517b0e0",
   "metadata": {},
   "outputs": [],
   "source": [
    "h = 1\n",
    "b = 1\n",
    "EIr = 1e6 # MODIFIED\n",
    "EIk = 1e5 # MODIFIED\n",
    "EA = 1e10 # MODIFIED\n",
    "H  = 100\n",
    "rhoA = 2e03  # MODIFIED\n",
    "omega = 100  # MODIFIED\n",
    "ksi = 0.01 # MODIFIED\n",
    "\n",
    "Node.clear()\n",
    "Element.clear()"
   ]
  },
  {
   "cell_type": "markdown",
   "id": "fccfde99",
   "metadata": {},
   "source": [
    "### Create nodes"
   ]
  },
  {
   "cell_type": "code",
   "execution_count": 20,
   "id": "05b510c8",
   "metadata": {},
   "outputs": [],
   "source": [
    "nodes = []\n",
    "\n",
    "nodes.append(Node(0,0))\n",
    "nodes.append(Node(b,0))\n",
    "nodes.append(Node(b,h))\n",
    "nodes.append(Node(0,h))"
   ]
  },
  {
   "cell_type": "markdown",
   "id": "c0de70a0",
   "metadata": {},
   "source": [
    "### Create elements"
   ]
  },
  {
   "cell_type": "code",
   "execution_count": 21,
   "id": "dfc3a8cb",
   "metadata": {},
   "outputs": [],
   "source": [
    "elems = []\n",
    "\n",
    "elems.append(Element([nodes[0], nodes[1]]))\n",
    "elems.append(Element([nodes[1], nodes[2]]))\n",
    "elems.append(Element([nodes[2], nodes[3]]))\n",
    "elems.append(Element([nodes[0], nodes[3]]))\n",
    "\n",
    "beams = {}\n",
    "columns = {}\n",
    "beams['EI'] = EIr\n",
    "beams['EA'] = EA\n",
    "columns['EI'] = EIk\n",
    "columns['EA'] = EA\n",
    "beams['ksi'] = ksi  # MODIFIED\n",
    "beams['rhoA'] = rhoA  # MODIFIED\n",
    "beams['omega'] = omega  # MODIFIED\n",
    "columns['ksi'] = ksi  # MODIFIED\n",
    "columns['rhoA'] = rhoA  # MODIFIED\n",
    "columns['omega'] = omega  # MODIFIED\n",
    "\n",
    "elems[0].set_section (beams)\n",
    "elems[1].set_section (columns)\n",
    "elems[2].set_section (beams)\n",
    "elems[3].set_section (columns)"
   ]
  },
  {
   "cell_type": "markdown",
   "id": "2c9ed98e",
   "metadata": {},
   "source": [
    "### Set boundary conditions"
   ]
  },
  {
   "cell_type": "code",
   "execution_count": 22,
   "id": "d44a320a",
   "metadata": {},
   "outputs": [],
   "source": [
    "con = Constrainer()\n",
    "\n",
    "con.fix_dof (nodes[0], 0)\n",
    "con.fix_dof (nodes[0], 1)\n",
    "con.fix_dof (nodes[1], 1)\n",
    "\n",
    "nodes[3].add_load ([H,0,0])"
   ]
  },
  {
   "cell_type": "markdown",
   "id": "9c620208",
   "metadata": {},
   "source": [
    "### Assemble the system"
   ]
  },
  {
   "cell_type": "code",
   "execution_count": 23,
   "id": "5c9cce32",
   "metadata": {},
   "outputs": [
    {
     "name": "stdout",
     "output_type": "stream",
     "text": [
      "[  0.+0.j   0.+0.j   0.+0.j   0.+0.j   0.+0.j   0.+0.j   0.+0.j   0.+0.j\n",
      "   0.+0.j 100.+0.j   0.+0.j   0.+0.j]\n"
     ]
    }
   ],
   "source": [
    "global_k = np.zeros ((3*len(nodes), 3*len(nodes)), dtype=complex) #MODIFIED\n",
    "global_f = np.zeros (3*len(nodes), dtype=complex)  #MODIFIED\n",
    "\n",
    "for e in elems:\n",
    "    elmat = e.stiffness()\n",
    "    idofs = e.global_dofs()\n",
    "    \n",
    "    global_k[np.ix_(idofs,idofs)] += elmat\n",
    "\n",
    "for n in nodes:\n",
    "    global_f[n.dofs] += n.p\n",
    "\n",
    "#print(global_k) \n",
    "print(global_f)    "
   ]
  },
  {
   "cell_type": "markdown",
   "id": "cd78bd86",
   "metadata": {},
   "source": [
    "### Constrain the problem and solve for nodal displacements"
   ]
  },
  {
   "cell_type": "code",
   "execution_count": 24,
   "id": "8c38df5b",
   "metadata": {},
   "outputs": [
    {
     "name": "stdout",
     "output_type": "stream",
     "text": [
      "[ 0.00000000e+00+0.00000000e+00j  0.00000000e+00+0.00000000e+00j\n",
      "  7.60429805e-07-1.47347670e-08j -1.71208870e-09+4.44787600e-11j\n",
      "  0.00000000e+00+0.00000000e+00j  7.67790607e-07-1.52380370e-08j\n",
      " -2.59531758e-06-1.75236301e-08j  5.36734186e-10-2.34695153e-11j\n",
      " -4.68056933e-07+2.09405777e-08j -2.59031516e-06-1.76238584e-08j\n",
      " -5.37811961e-10+2.35774627e-11j -4.61819812e-07+2.04465279e-08j]\n"
     ]
    }
   ],
   "source": [
    "Kc, Fc = con.constrain ( global_k, global_f )\n",
    "u = np.matmul ( np.linalg.inv(Kc), Fc )\n",
    "print(u)"
   ]
  },
  {
   "cell_type": "code",
   "execution_count": null,
   "id": "42005e69",
   "metadata": {},
   "outputs": [],
   "source": []
  },
  {
   "cell_type": "code",
   "execution_count": null,
   "id": "12bd9af8",
   "metadata": {},
   "outputs": [],
   "source": []
  },
  {
   "cell_type": "code",
   "execution_count": null,
   "id": "b3c46103",
   "metadata": {},
   "outputs": [],
   "source": []
  }
 ],
 "metadata": {
  "kernelspec": {
   "display_name": "Python 3 (ipykernel)",
   "language": "python",
   "name": "python3"
  },
  "language_info": {
   "codemirror_mode": {
    "name": "ipython",
    "version": 3
   },
   "file_extension": ".py",
   "mimetype": "text/x-python",
   "name": "python",
   "nbconvert_exporter": "python",
   "pygments_lexer": "ipython3",
   "version": "3.8.18"
  },
  "latex_envs": {
   "LaTeX_envs_menu_present": true,
   "autoclose": false,
   "autocomplete": true,
   "bibliofile": "biblio.bib",
   "cite_by": "apalike",
   "current_citInitial": 1,
   "eqLabelWithNumbers": true,
   "eqNumInitial": 1,
   "hotkeys": {
    "equation": "Ctrl-E",
    "itemize": "Ctrl-I"
   },
   "labels_anchors": false,
   "latex_user_defs": false,
   "report_style_numbering": false,
   "user_envs_cfg": false
  }
 },
 "nbformat": 4,
 "nbformat_minor": 5
}
