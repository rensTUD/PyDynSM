{
 "cells": [
  {
   "cell_type": "markdown",
   "metadata": {},
   "source": [
    "<figure>\n",
    "  <IMG SRC=\"https://raw.githubusercontent.com/fmeer/public-files/main/TUlogo.png\" WIDTH=200 ALIGN=\"right\">\n",
    "</figure>\n",
    "\n",
    "# Dynamic Stiffness Matrix method \n",
    "# (Python - Notebook 3.3 - student version)\n",
    "    \n",
    "\n",
    "### Task: \n",
    "#### Modify this notebook accordingly to obtain the steady-state response of systems subjected to harmonic loads with the same spatial distributions as the static ones. You will need to study and modify the element class accordingly to include the dynamic-related matrices and functions. You are adviced to study also the MAPLE files distributed in L3.1.1 for the derivations.\n",
    "\n",
    "#### Check also the limit case: \\begin{equation*} \\omega=0 \\end{equation*}"
   ]
  },
  {
   "cell_type": "code",
   "execution_count": 1,
   "metadata": {
    "tags": []
   },
   "outputs": [],
   "source": [
    "import numpy as np\n",
    "import matplotlib.pyplot as plt"
   ]
  },
  {
   "cell_type": "markdown",
   "metadata": {},
   "source": [
    "## The Node class\n",
    "The `Node` class from last week is pasted here for convenience and without changes.\n",
    "\n",
    "**The code below does not need any modification**."
   ]
  },
  {
   "cell_type": "code",
   "execution_count": 2,
   "metadata": {},
   "outputs": [],
   "source": [
    "class Node:\n",
    "    ndof = 0\n",
    "    nn   = 0\n",
    "    \n",
    "    def clear():\n",
    "        Node.ndof = 0\n",
    "        Node.nn = 0\n",
    "        \n",
    "    def __init__ (self, x, y):  \n",
    "        self.x     = x\n",
    "        self.y     = y\n",
    "        self.p     = np.zeros(3, dtype=complex)\n",
    "\n",
    "        self.dofs  = [Node.ndof, Node.ndof+1, Node.ndof+2]\n",
    "\n",
    "        Node.ndof += 3\n",
    "        Node.nn   += 1\n",
    "\n",
    "    def add_load (self, p):  \n",
    "        self.p += p"
   ]
  },
  {
   "cell_type": "markdown",
   "metadata": {},
   "source": [
    "## The Element class\n",
    "\n",
    "Copy/paste your `Element` class from last week in the code block below. Use it as a basis for the changes you should make in this notebook.\n",
    "\n",
    "**The code below is incomplete:**\n",
    "- Code a function with header `def add_distributed_load ( self, q ):` that computes the equivalent load vector for a **constant load** $q$ and moves those loads to the nodes belonging to the element. Remember to use the `add_load` function of the `Node` class to store the equivalent loads (remember we have **two** nodes per element!). Also keep local/global transformations in mind and store `self.q = q` for later use;\n",
    "- Code a function with header `def bending_moments ( self, u_global, num_points=2 ):` that receives the nodal displacements of the element in the global coordinate system (`u_global`) and uses it to compute the value of the bending moment at `num_points` equally-spaced points along the element length. Keep local/global transformations in mind and use the ODE approach in Maple to compute an expression for M (here you will need the `self.q` you stored before). You will also need a `np.linspace()` to get your range of points."
   ]
  },
  {
   "cell_type": "code",
   "execution_count": 3,
   "metadata": {},
   "outputs": [],
   "source": [
    "class Element:\n",
    "    ne = 0\n",
    "\n",
    "    def clear():\n",
    "        Element.ne = 0\n",
    "        \n",
    "    def __init__ (self, nodes):\n",
    "        self.nodes = nodes\n",
    "\n",
    "        self.L = np.sqrt((nodes[1].x - nodes[0].x)**2.0 + (nodes[1].y - nodes[0].y)**2.0)\n",
    "\n",
    "        dx = nodes[1].x - nodes[0].x\n",
    "        dy = nodes[1].y - nodes[0].y\n",
    "\n",
    "        self.cos = dx / self.L\n",
    "        self.sin = dy / self.L\n",
    "\n",
    "        R = np.zeros ((6,6))\n",
    "\n",
    "        R[0,0] = R[1,1] = R[3,3] = R[4,4] = self.cos\n",
    "        R[0,1] = R[3,4] = -self.sin\n",
    "        R[1,0] = R[4,3] =  self.sin\n",
    "        R[2,2] = R[5,5] = 1.0\n",
    "        \n",
    "        self.R  = R\n",
    "        self.Rt = np.transpose(R)\n",
    "\n",
    "        Element.ne += 1\n",
    "\n",
    "    def set_section (self, props):\n",
    "        if 'EA' in props:\n",
    "            self.EA = props['EA']\n",
    "        else:\n",
    "            self.EA = 1.e20\n",
    "        if 'EI' in props:\n",
    "            self.EI = props['EI']\n",
    "        else:\n",
    "            self.EI = 1.e20\n",
    "\n",
    "    def global_dofs  (self):\n",
    "        return np.hstack ((self.nodes[0].dofs, self.nodes[1].dofs))\n",
    "\n",
    "    def stiffness ( self ):\n",
    "        k = np.zeros ((6, 6))\n",
    "\n",
    "        EA = self.EA\n",
    "        EI = self.EI\n",
    "        L = self.L\n",
    "\n",
    "        # Extension contribution\n",
    "\n",
    "        k[0,0] = k[3,3] = EA/L\n",
    "        k[3,0] = k[0,3] = -EA/L\n",
    "\n",
    "        # Bending contribution\n",
    "\n",
    "        k[1,1] = k[4,4] =  12.0 * EI / L / L / L\n",
    "        k[1,4] = k[4,1] = -12.0 * EI / L / L / L\n",
    "        k[1,2] = k[2,1] = k[1,5] = k[5,1] = -6.0 * EI / L / L\n",
    "        k[2,4] = k[4,2] = k[4,5] = k[5,4] = 6.0 * EI / L / L\n",
    "        k[2,2] = k[5,5] = 4.0 * EI / L\n",
    "        k[2,5] = k[5,2] = 2.0 * EI / L\n",
    "\n",
    "        return np.matmul ( np.matmul ( self.Rt, k ), self.R )\n",
    "\n",
    "    def add_distributed_load ( self, q ):\n",
    "\n",
    "        l = self.L\n",
    "\n",
    "        self.q = np.array( q )\n",
    "\n",
    "        el = [ 0.5*q[0]*l, 0.5*q[1]*l, -1.0/12.0*q[1]*l*l, 0.5*q[0]*l, 0.5*q[1]*l, 1.0/12.0*q[1]*l*l ]\n",
    "\n",
    "        eg = np.matmul ( self.Rt, np.array ( el ) )\n",
    "\n",
    "        self.nodes[0].add_load ( eg[0:3] )\n",
    "        self.nodes[1].add_load ( eg[3:6] )\n",
    "        \n",
    "    def bending_moments ( self, u_global, num_points=2 ):\n",
    "    \n",
    "        l = self.L\n",
    "        q = self.q[1]\n",
    "        EI= self.EI\n",
    "\n",
    "        xi = np.linspace ( 0.0, l, num_points )\n",
    "        M  = np.zeros(num_points)\n",
    "\n",
    "        ul = np.matmul ( self.R, u_global )\n",
    "\n",
    "        M = ( -l**5.0*q + 6.0 * l**4.0*q*xi\n",
    "              - 6.0*q*xi*xi*l**3.0 - 48.0*(ul[2] + ul[5]/2.0)*EI*l**2.0 \n",
    "              + 72.0*EI*((ul[2]+ul[5])*xi+ul[1]-ul[4])*l - 144.0*xi*EI*(ul[1]-ul[4]) ) / 12.0 / l**3.0\n",
    "\n",
    "        return M"
   ]
  },
  {
   "cell_type": "markdown",
   "metadata": {},
   "source": [
    "## The Constrainer class\n",
    "\n",
    "We give you a new `Constrainer` class here which now also stores possibly non-zero values for displacement boundary conditions. We also add funcionality to `fix_dof` to allow for a non-zero value and accommodate the functions we had before by calling the new one. Finally, we also added a new `full_disp` function that returns the full nodal displacement vector with `u_free` (computed by our solver) and `u_cons` (already known by `Constrainer`, i.e. the prescribed displacement values).\n",
    "\n",
    "***The implementation below is incomplete***:\n",
    "- Code the `constrain` function again, but this time taking into account non-zero Dirichlet BCs. Note that we now store `free_dofs` for later use.\n",
    "- Code a new `support_reactions` functions to compute support reactions. Since the constrainer is always first going to get `constrain` called, here we already have access to `self.free_dofs`. Together with `self.cons_dofs`, you should have all you need to compute reactions. Note that `f` is also passed as argument. Make sure you take into account the contribution of equivalent element loads that go directly into the supports without deforming the structure."
   ]
  },
  {
   "cell_type": "code",
   "execution_count": 4,
   "metadata": {},
   "outputs": [],
   "source": [
    "class Constrainer:\n",
    "    def __init__ (self):\n",
    "        self.cons_dofs = []\n",
    "        self.cons_vals = []\n",
    "\n",
    "    def fix_dof (self, node, dof, value=0):\n",
    "        self.cons_dofs.append(node.dofs[dof])\n",
    "        self.cons_vals.append(value)\n",
    " \n",
    "    def fix_node (self, node):\n",
    "        for dof in node.dofs:\n",
    "            self.fix_dof (node, dof)      \n",
    "\n",
    "    def full_disp (self,u_free):\n",
    "        u_full = np.zeros(len(self.free_dofs) + len(self.cons_dofs))\n",
    "        \n",
    "        u_full[self.free_dofs] = u_free\n",
    "        u_full[self.cons_dofs] = self.cons_vals\n",
    "        \n",
    "        return u_full\n",
    "    \n",
    "    def constrain (self, k, f):\n",
    "        self.free_dofs = [i for i in range(len(f)) if i not in self.cons_dofs]\n",
    "        \n",
    "        Kff = k[np.ix_(self.free_dofs,self.free_dofs)]\n",
    "        Kfc = k[np.ix_(self.free_dofs,self.cons_dofs)]\n",
    "        Ff = f[self.free_dofs]\n",
    "\n",
    "        return Kff, Ff - np.matmul(Kfc,self.cons_vals)\n",
    "    \n",
    "    def support_reactions (self,k,u_free,f):       \n",
    "        Kcf = k[np.ix_(self.cons_dofs,self.free_dofs)]\n",
    "        Kcc = k[np.ix_(self.cons_dofs,self.cons_dofs)]\n",
    "        \n",
    "        return np.matmul(Kcf,u_free) + np.matmul(Kcc,self.cons_vals) - f[self.cons_dofs]"
   ]
  },
  {
   "cell_type": "markdown",
   "metadata": {},
   "source": [
    "## Sanity check: Beam with distributed load\n",
    "\n",
    "Having made your implementations, it is now time to verify your code with a simple sanity check. Here we would like to solve the following simply-supported beam:\n",
    "<figure>\n",
    "  <IMG SRC=\"https://raw.githubusercontent.com/ibcmrocha/public/main/ssbeam.png\" WIDTH=200 ALIGN=\"center\">\n",
    "</figure>"
   ]
  },
  {
   "cell_type": "markdown",
   "metadata": {},
   "source": [
    "Use the code blocks below to set up and solve this problem using the classes above. As before, we give you some code blocks to organize your solution. Once you are done, compare the rotation at the right end of the beam and the bending moment at midspan to the solution you obtained in the first half of the course:\n",
    "\n",
    "$$\n",
    "\\varphi(\\ell) = \\frac{q\\ell^3}{24EI}\n",
    "\\quad\n",
    "M(\\ell/2) = \\frac{q\\ell^2}{8}\n",
    "$$"
   ]
  },
  {
   "cell_type": "markdown",
   "metadata": {
    "tags": []
   },
   "source": [
    "### Parameters\n",
    "\n",
    "We define the parameters here for convenience. We also use the `clear` functions to restart the node, element and DOF counters. Make sure this is done whenever you start solving a new problem."
   ]
  },
  {
   "cell_type": "code",
   "execution_count": 5,
   "metadata": {},
   "outputs": [],
   "source": [
    "EI = 1000\n",
    "q  = 10\n",
    "L  = 1\n",
    "\n",
    "Node.clear()\n",
    "Element.clear()"
   ]
  },
  {
   "cell_type": "markdown",
   "metadata": {},
   "source": [
    "### Create nodes"
   ]
  },
  {
   "cell_type": "code",
   "execution_count": 6,
   "metadata": {},
   "outputs": [],
   "source": [
    "node1 = Node (0,0)\n",
    "node2 = Node (L,0)"
   ]
  },
  {
   "cell_type": "markdown",
   "metadata": {},
   "source": [
    "### Create element"
   ]
  },
  {
   "cell_type": "code",
   "execution_count": 7,
   "metadata": {},
   "outputs": [],
   "source": [
    "elem = Element ( [node1, node2] )\n",
    "\n",
    "section = {}\n",
    "section['EI'] = EI\n",
    "\n",
    "elem.set_section (section)"
   ]
  },
  {
   "cell_type": "markdown",
   "metadata": {},
   "source": [
    "### Set boundary conditions\n",
    "\n",
    "The new thing here is to also add the distributed load $q$ to your element. For that, use the new function you implemented in `Element`."
   ]
  },
  {
   "cell_type": "code",
   "execution_count": 8,
   "metadata": {},
   "outputs": [],
   "source": [
    "con = Constrainer()\n",
    "\n",
    "con.fix_dof (node1,0)\n",
    "con.fix_dof (node1,1)\n",
    "con.fix_dof (node2,1)\n",
    "\n",
    "elem.add_distributed_load([0,10])"
   ]
  },
  {
   "cell_type": "markdown",
   "metadata": {},
   "source": [
    "### Assemble the system of equations"
   ]
  },
  {
   "cell_type": "code",
   "execution_count": 9,
   "metadata": {},
   "outputs": [],
   "source": [
    "global_k = elem.stiffness()\n",
    "global_f = np.zeros (6)\n",
    "\n",
    "global_f[0:3] = node1.p\n",
    "global_f[3:6] = node2.p"
   ]
  },
  {
   "cell_type": "markdown",
   "metadata": {},
   "source": [
    "### Constrain the problem and solve for nodal displacements"
   ]
  },
  {
   "cell_type": "code",
   "execution_count": 10,
   "metadata": {},
   "outputs": [
    {
     "name": "stdout",
     "output_type": "stream",
     "text": [
      "[-0.00041667  0.          0.00041667]\n"
     ]
    }
   ],
   "source": [
    "Kc, Fc = con.constrain ( global_k, global_f )\n",
    "u_free = np.matmul ( np.linalg.inv(Kc), Fc )\n",
    "print(u_free)"
   ]
  },
  {
   "cell_type": "markdown",
   "metadata": {},
   "source": [
    "### Support reactions\n",
    "\n",
    "Here you should call the new function you coded in `Constrainer`"
   ]
  },
  {
   "cell_type": "code",
   "execution_count": 11,
   "metadata": {},
   "outputs": [
    {
     "name": "stdout",
     "output_type": "stream",
     "text": [
      "[ 0. -5. -5.]\n"
     ]
    }
   ],
   "source": [
    "print(con.support_reactions(global_k,u_free,global_f))"
   ]
  },
  {
   "cell_type": "markdown",
   "metadata": {},
   "source": [
    "### Moment distribution\n",
    "\n",
    "Use this block to plot the moment distribution along the element and to get its value at midspan. Use the new `bending_moments` function you implemented in `Element` and `matplotlib` to plot your moment line. \n",
    "\n",
    "Note that `bending_moments` expects a full element displacement vector with 6 entries, while our solver only computes `u_free`. We therefore use the new `full_disp` function of `Constrainer` to fill in the gaps for us."
   ]
  },
  {
   "cell_type": "code",
   "execution_count": 12,
   "metadata": {},
   "outputs": [
    {
     "data": {
      "text/plain": [
       "[<matplotlib.lines.Line2D at 0x1a0b70a4048>]"
      ]
     },
     "execution_count": 12,
     "metadata": {},
     "output_type": "execute_result"
    },
    {
     "data": {
      "image/png": "[encoded data removed]",
      "text/plain": [
       "<Figure size 432x288 with 1 Axes>"
      ]
     },
     "metadata": {},
     "output_type": "display_data"
    }
   ],
   "source": [
    "u_elem = con.full_disp(u_free)[elem.global_dofs()]\n",
    "\n",
    "moments = elem.bending_moments(u_elem,100)\n",
    "plt.plot(np.linspace(0,L,100),moments)"
   ]
  },
  {
   "cell_type": "markdown",
   "metadata": {},
   "source": [
    "### Compare with the solution you know\n",
    "\n",
    "Finally, compare the rotation at the end of the beam and the moment at midspan with the analytical solutions you already know."
   ]
  },
  {
   "cell_type": "code",
   "execution_count": 13,
   "metadata": {},
   "outputs": [
    {
     "name": "stdout",
     "output_type": "stream",
     "text": [
      "ODE solution 0.0004166666666666667 Matrix method solution 0.0004166666666666666\n"
     ]
    }
   ],
   "source": [
    "print('ODE solution',q*L*L*L/24/EI,'Matrix method solution',u_free[2])"
   ]
  },
  {
   "cell_type": "code",
   "execution_count": 14,
   "metadata": {},
   "outputs": [
    {
     "name": "stdout",
     "output_type": "stream",
     "text": [
      "ODE moment at midspan 1.25 Matrix method result 1.2499999999999998\n"
     ]
    }
   ],
   "source": [
    "print('ODE moment at midspan',q*L*L/8,'Matrix method result',elem.bending_moments(u_elem,3)[1])"
   ]
  },
  {
   "cell_type": "markdown",
   "metadata": {},
   "source": [
    "Did your solutions match? If so, that is a sign your implementation is correct."
   ]
  },
  {
   "cell_type": "markdown",
   "metadata": {},
   "source": [
    "# Final example: Two-element frame"
   ]
  },
  {
   "cell_type": "markdown",
   "metadata": {},
   "source": [
    "<figure>\n",
    "  <IMG SRC=\"https://raw.githubusercontent.com/ibcmrocha/public/main/twoelemframe.png\" WIDTH=300 ALIGN=\"center\">\n",
    "</figure>\n",
    "    \n",
    "The final example of this notebook is the two-element frame above. Here you should make use of all the new code you implemented:\n",
    "    \n",
    "- Set up the problem and compute a solution for `u_free`. Remember to consider the prescribed horizontal displacement $\\bar{u}$ at the right end of the structure.\n",
    "- Compute and plot bending moment lines for both elements (in their local coordinate systems)\n",
    "- Compute reactions at both supports\n",
    "    \n",
    "You can use the parameters given below. "
   ]
  },
  {
   "cell_type": "markdown",
   "metadata": {},
   "source": [
    "### Parameters"
   ]
  },
  {
   "cell_type": "code",
   "execution_count": 15,
   "metadata": {},
   "outputs": [],
   "source": [
    "EI = 1500\n",
    "EA = 1000\n",
    "q = 9\n",
    "L = 5\n",
    "phibar = 0.15\n",
    "\n",
    "Node.clear()\n",
    "Element.clear()"
   ]
  },
  {
   "cell_type": "markdown",
   "metadata": {},
   "source": [
    "### Create nodes"
   ]
  },
  {
   "cell_type": "code",
   "execution_count": 16,
   "metadata": {},
   "outputs": [],
   "source": [
    "nodes = []\n",
    "\n",
    "nodes.append(Node(0,0))\n",
    "nodes.append(Node(L,L))\n",
    "nodes.append(Node(2*L,0))"
   ]
  },
  {
   "cell_type": "markdown",
   "metadata": {},
   "source": [
    "### Create elements"
   ]
  },
  {
   "cell_type": "code",
   "execution_count": 17,
   "metadata": {},
   "outputs": [],
   "source": [
    "elems = []\n",
    "\n",
    "elems.append(Element([nodes[0], nodes[1]]))\n",
    "elems.append(Element([nodes[1], nodes[2]]))\n",
    "\n",
    "section = {}\n",
    "section['EI'] = EI\n",
    "section['EA'] = EA\n",
    "\n",
    "for elem in elems:\n",
    "    elem.set_section(section)"
   ]
  },
  {
   "cell_type": "markdown",
   "metadata": {},
   "source": [
    "### Set boundary conditions"
   ]
  },
  {
   "cell_type": "code",
   "execution_count": 18,
   "metadata": {},
   "outputs": [],
   "source": [
    "con = Constrainer()\n",
    "\n",
    "con.fix_dof (nodes[0], 0)\n",
    "con.fix_dof (nodes[0], 1)\n",
    "con.fix_dof (nodes[2], 0)\n",
    "con.fix_dof (nodes[2], 1)\n",
    "con.fix_dof (nodes[2], 2, phibar)\n",
    "\n",
    "elems[0].add_distributed_load([0,q])\n",
    "elems[1].add_distributed_load([0,2*q])"
   ]
  },
  {
   "cell_type": "markdown",
   "metadata": {},
   "source": [
    "### Assemble the system"
   ]
  },
  {
   "cell_type": "code",
   "execution_count": 19,
   "metadata": {},
   "outputs": [],
   "source": [
    "global_k = np.zeros ((3*len(nodes), 3*len(nodes)))\n",
    "global_f = np.zeros (3*len(nodes))\n",
    "\n",
    "for e in elems:\n",
    "    elmat = e.stiffness()\n",
    "    idofs = e.global_dofs()\n",
    "    \n",
    "    global_k[np.ix_(idofs,idofs)] += elmat\n",
    "\n",
    "for n in nodes:\n",
    "    global_f[n.dofs] += n.p"
   ]
  },
  {
   "cell_type": "markdown",
   "metadata": {},
   "source": [
    "### Constrain the problem and solve for nodal displacements"
   ]
  },
  {
   "cell_type": "code",
   "execution_count": 20,
   "metadata": {},
   "outputs": [
    {
     "name": "stdout",
     "output_type": "stream",
     "text": [
      "[-0.09274451 -0.13310939  0.51159348 -0.01644455]\n"
     ]
    }
   ],
   "source": [
    "Kc, Fc = con.constrain ( global_k, global_f )\n",
    "u_free = np.matmul ( np.linalg.inv(Kc), Fc )\n",
    "print(u_free)"
   ]
  },
  {
   "cell_type": "markdown",
   "metadata": {},
   "source": [
    "### Support reactions"
   ]
  },
  {
   "cell_type": "code",
   "execution_count": 21,
   "metadata": {},
   "outputs": [
    {
     "name": "stdout",
     "output_type": "stream",
     "text": [
      "[ 27.35024439 -63.82451092  17.64975561 -71.17548908 -36.75489076]\n"
     ]
    }
   ],
   "source": [
    "print(con.support_reactions(global_k,u_free,global_f))"
   ]
  },
  {
   "cell_type": "markdown",
   "metadata": {},
   "source": [
    "### Moment lines"
   ]
  },
  {
   "cell_type": "code",
   "execution_count": 22,
   "metadata": {},
   "outputs": [
    {
     "data": {
      "image/png": "[encoded data removed]",
      "text/plain": [
       "<Figure size 432x288 with 1 Axes>"
      ]
     },
     "metadata": {},
     "output_type": "display_data"
    }
   ],
   "source": [
    "u_full = con.full_disp(u_free)\n",
    "for i,elem in enumerate(elems):\n",
    "    u_elem = u_full[elem.global_dofs()]\n",
    "    x = np.linspace(0,elem.L,100)\n",
    "    y = elem.bending_moments(u_elem,100)\n",
    "    plt.title('Moment lines (local system)')\n",
    "    plt.xlabel('Position')\n",
    "    plt.ylabel('Moment (positive downwards)')\n",
    "    plt.plot(x,-y,label='Element '+str(i+1))\n",
    "    plt.legend()\n",
    "    plt.savefig('moments.png')"
   ]
  },
  {
   "cell_type": "code",
   "execution_count": null,
   "metadata": {},
   "outputs": [],
   "source": []
  }
 ],
 "metadata": {
  "kernelspec": {
   "display_name": "Python 3",
   "language": "python",
   "name": "python3"
  },
  "language_info": {
   "codemirror_mode": {
    "name": "ipython",
    "version": 3
   },
   "file_extension": ".py",
   "mimetype": "text/x-python",
   "name": "python",
   "nbconvert_exporter": "python",
   "pygments_lexer": "ipython3",
   "version": "3.6.6"
  },
  "latex_envs": {
   "LaTeX_envs_menu_present": true,
   "autoclose": false,
   "autocomplete": true,
   "bibliofile": "biblio.bib",
   "cite_by": "apalike",
   "current_citInitial": 1,
   "eqLabelWithNumbers": true,
   "eqNumInitial": 1,
   "hotkeys": {
    "equation": "Ctrl-E",
    "itemize": "Ctrl-I"
   },
   "labels_anchors": false,
   "latex_user_defs": false,
   "report_style_numbering": false,
   "user_envs_cfg": false
  }
 },
 "nbformat": 4,
 "nbformat_minor": 5
}
