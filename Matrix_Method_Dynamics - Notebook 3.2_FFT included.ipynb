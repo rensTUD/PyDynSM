{
 "cells": [
  {
   "cell_type": "markdown",
   "metadata": {},
   "source": [
    "<figure>\n",
    "  <IMG SRC=\"https://raw.githubusercontent.com/fmeer/public-files/main/TUlogo.png\" WIDTH=200 ALIGN=\"right\">\n",
    "</figure>\n",
    "\n",
    "# Coding the Matrix Method in Python - Notebook 3.2\n",
    "    \n",
    "#### This notebook is an extension of Notebook 3.1 with the inclusion of a cell which will allow you to obtain the response in the time domain by using the Fourier Transform. Additionally, we enriched the local dynamic stiffness matrices with spring-dashpot attachments at the edges. Please study this notebook carefully and try to think of examples to check your understanding of the material."
   ]
  },
  {
   "cell_type": "code",
   "execution_count": 1,
   "metadata": {
    "tags": []
   },
   "outputs": [],
   "source": [
    "import numpy as np\n",
    "import matplotlib.pyplot as plt"
   ]
  },
  {
   "cell_type": "markdown",
   "metadata": {},
   "source": [
    "## The Node class\n",
    "The purpose of this class is to store node information and keep track of the total number of DOFs of the problem. Note the automatic bookkeeping we introduce in `__init__`. This simple but efficient way of keeping track of which DOFs belong to which nodes will make life much easier when we need to assemble matrices from multiple elements. **The code below does not need any modification**."
   ]
  },
  {
   "cell_type": "code",
   "execution_count": 2,
   "metadata": {},
   "outputs": [],
   "source": [
    "class Node:\n",
    "    ndof = 0\n",
    "    nn   = 0\n",
    "    \n",
    "    def clear():\n",
    "        Node.ndof = 0\n",
    "        Node.nn = 0\n",
    "        \n",
    "    def __init__ (self, x, y):  \n",
    "        self.x     = x\n",
    "        self.y     = y\n",
    "        self.p     = np.zeros(3, dtype=complex)\n",
    "\n",
    "        self.dofs  = [Node.ndof, Node.ndof+1, Node.ndof+2]\n",
    "\n",
    "        Node.ndof += 3\n",
    "        Node.nn   += 1\n",
    "\n",
    "    def add_load (self, p):  \n",
    "        self.p += p"
   ]
  },
  {
   "cell_type": "markdown",
   "metadata": {},
   "source": [
    "## The Element class\n",
    "This class keeps track of each element in the model, including:\n",
    "- Cross-section properties\n",
    "- Element orientation (for coordinate system transformations)\n",
    "- Which Nodes make up each element, and in turn (with help of the Node class) which DOFs belong to each element\n",
    "\n",
    "Apart from bookkeeping element data, the other main task of this class is to provide the element stiffness matrix in the global coordinate system (for subsequent assembly) and postprocess element-level fields.\n",
    "\n",
    "Here the class describes an element combining extension and Euler-Bernoulli bending. A similar (or inherited) class could also be implemented for different element types (*e.g.* shear beam, Timoshenko beam, cable elements, etc). Here we also keep it simple by assuming elements are all arranged in a 2D plane.\n",
    "\n",
    "#### Check in the element class below the additions of the spring-dashpot attachments at the edges of each element. "
   ]
  },
  {
   "cell_type": "code",
   "execution_count": 3,
   "metadata": {},
   "outputs": [],
   "source": [
    "class Element:\n",
    "    ne = 0\n",
    "\n",
    "    def clear():\n",
    "        Element.ne = 0\n",
    "        \n",
    "    def __init__ (self, nodes):\n",
    "        self.nodes = nodes\n",
    "\n",
    "        self.L = np.sqrt((nodes[1].x - nodes[0].x)**2.0 + (nodes[1].y - nodes[0].y)**2.0)\n",
    "\n",
    "        dx = nodes[1].x - nodes[0].x\n",
    "        dy = nodes[1].y - nodes[0].y\n",
    "\n",
    "        self.cos = dx / self.L\n",
    "        self.sin = dy / self.L\n",
    "\n",
    "        R = np.zeros ((6,6))\n",
    "\n",
    "        R[0,0] = R[1,1] = R[3,3] = R[4,4] = self.cos\n",
    "        R[0,1] = R[3,4] = -self.sin\n",
    "        R[1,0] = R[4,3] =  self.sin\n",
    "        R[2,2] = R[5,5] = 1.0\n",
    "        \n",
    "        self.R  = R\n",
    "        self.Rt = np.transpose(R)\n",
    "\n",
    "        Element.ne += 1\n",
    "\n",
    "    def set_section (self, props):\n",
    "        \n",
    "        if 'EA' in props:\n",
    "            self.EA = props['EA']\n",
    "        else:\n",
    "            self.EA = 1.e20\n",
    "            \n",
    "        if 'ksi' in props: # MODIFIED\n",
    "            self.ksi = props['ksi'] # MODIFIED\n",
    "        else: # MODIFIED\n",
    "            self.ksi = 0.01  # MODIFIED\n",
    "            \n",
    "        if 'rhoA' in props:  # MODIFIED\n",
    "            self.rhoA = props['rhoA']  # MODIFIED\n",
    "        else:  # MODIFIED\n",
    "            self.rhoA = 1.e20  # MODIFIED\n",
    "            \n",
    "        if 'EI' in props:\n",
    "            self.EI = props['EI']\n",
    "        else:\n",
    "            self.EI = 1.e20\n",
    "            \n",
    "        if 'omega' in props:  # MODIFIED\n",
    "            self.omega = props['omega']  # MODIFIED\n",
    "        else:   # MODIFIED\n",
    "            self.omega = 1.e20  # MODIFIED\n",
    "        \n",
    "        if 'k_1_r' in props:  # MODIFIED\n",
    "            self.k_1_r = props['k_1_r']  # MODIFIED\n",
    "        else:   # MODIFIED\n",
    "            self.k_1_r = 1.e20  # MODIFIED\n",
    "            \n",
    "        if 'k_2_r' in props:  # MODIFIED\n",
    "            self.k_2_r = props['k_2_r']  # MODIFIED\n",
    "        else:   # MODIFIED\n",
    "            self.k_2_r = 1.e20  # MODIFIED\n",
    "            \n",
    "        if 'c_1_r' in props:  # MODIFIED\n",
    "            self.c_1_r = props['c_1_r']  # MODIFIED\n",
    "        else:   # MODIFIED\n",
    "            self.c_1_r = 1.e20  # MODIFIED\n",
    "            \n",
    "        if 'c_2_r' in props:  # MODIFIED\n",
    "            self.c_2_r = props['c_2_r']  # MODIFIED\n",
    "        else:   # MODIFIED\n",
    "            self.c_2_r = 1.e20  # MODIFIED\n",
    "        \n",
    "        if 'k_1_b' in props:  # MODIFIED\n",
    "            self.k_1_b = props['k_1_b']  # MODIFIED\n",
    "        else:   # MODIFIED\n",
    "            self.k_1_b = 1.e20  # MODIFIED\n",
    "            \n",
    "        if 'k_2_b' in props:  # MODIFIED\n",
    "            self.k_2_b = props['k_2_b']  # MODIFIED\n",
    "        else:   # MODIFIED\n",
    "            self.k_2_b = 1.e20  # MODIFIED\n",
    "            \n",
    "        if 'c_1_b' in props:  # MODIFIED\n",
    "            self.c_1_b = props['c_1_b']  # MODIFIED\n",
    "        else:   # MODIFIED\n",
    "            self.c_1_b = 1.e20  # MODIFIED\n",
    "            \n",
    "        if 'c_2_b' in props:  # MODIFIED\n",
    "            self.c_2_b = props['c_2_b']  # MODIFIED\n",
    "        else:   # MODIFIED\n",
    "            self.c_2_b = 1.e20  # MODIFIED\n",
    "            \n",
    "\n",
    "    def global_dofs  (self):\n",
    "        return np.hstack ((self.nodes[0].dofs, self.nodes[1].dofs))\n",
    "\n",
    "    def stiffness ( self ):\n",
    "        \n",
    "        k = np.zeros ((6, 6), dtype=complex) # MODIFIED\n",
    "        \n",
    "        ksi = self.ksi # MODIFIED\n",
    "        EA = self.EA * (1 + 2j * ksi) # MODIFIED\n",
    "        rhoA = self.rhoA  # MODIFIED \n",
    "        EI = self.EI * (1 + 2j * ksi) # MODIFIED\n",
    "        L = self.L\n",
    "        omega = self.omega  # MODIFIED\n",
    "        c_r = (EA/rhoA) ** 0.5  # MODIFIED\n",
    "        beta_r = omega / c_r  # MODIFIED\n",
    "        beta_b = (omega**2 * rhoA / EI) ** 0.25  # MODIFIED\n",
    "        k_1_r = self.k_1_r # MODIFIED\n",
    "        k_2_r = self.k_2_r # MODIFIED\n",
    "        c_1_r = self.c_1_r # MODIFIED\n",
    "        c_2_r = self.c_2_r # MODIFIED\n",
    "        k_1_b = self.k_1_b # MODIFIED\n",
    "        k_2_b = self.k_2_b # MODIFIED\n",
    "        c_1_b = self.c_1_b # MODIFIED\n",
    "        c_2_b = self.c_2_b # MODIFIED\n",
    "\n",
    "        # Extension contribution\n",
    "\n",
    "        k[0,0] = EA * beta_r * np.cos(beta_r * L) / np.sin(beta_r * L) + k_1_r + 1j * omega * c_1_r   # MODIFIED\n",
    "        k[3,3] = EA * beta_r * np.cos(beta_r * L) / np.sin(beta_r * L) + k_2_r + 1j * omega * c_2_r  # MODIFIED\n",
    "        k[3,0] = - EA * beta_r / np.sin(beta_r * L) # MODIFIED\n",
    "        k[0,3] = - EA * beta_r / np.sin(beta_r * L) # MODIFIED\n",
    "\n",
    "        # Bending contribution\n",
    "        \n",
    "        K_beam = np.array([[-EI * beta_b ** 3 * (np.cosh(beta_b * L) * np.sin(beta_b * L) + np.sinh(beta_b * L) * np.cos(beta_b * L)) / (np.cosh(beta_b * L) * np.cos(beta_b * L) - 1),EI * np.sinh(beta_b * L) * np.sin(beta_b * L) * beta_b ** 2 / (np.cosh(beta_b * L) * np.cos(beta_b * L) - 1),EI * beta_b ** 3 * (np.sinh(beta_b * L) + np.sin(beta_b * L)) / (np.cosh(beta_b * L) * np.cos(beta_b * L) - 1),EI * beta_b ** 2 * (np.cosh(beta_b * L) - np.cos(beta_b * L)) / (np.cosh(beta_b * L) * np.cos(beta_b * L) - 1)],[EI * np.sinh(beta_b * L) * np.sin(beta_b * L) * beta_b ** 2 / (np.cosh(beta_b * L) * np.cos(beta_b * L) - 1),EI * beta_b * (-np.cosh(beta_b * L) * np.sin(beta_b * L) + np.sinh(beta_b * L) * np.cos(beta_b * L)) / (np.cosh(beta_b * L) * np.cos(beta_b * L) - 1),EI * beta_b ** 2 * (-np.cosh(beta_b * L) + np.cos(beta_b * L)) / (np.cosh(beta_b * L) * np.cos(beta_b * L) - 1),EI * beta_b * (-np.sinh(beta_b * L) + np.sin(beta_b * L)) / (np.cosh(beta_b * L) * np.cos(beta_b * L) - 1)],[EI * beta_b ** 3 * (np.sinh(beta_b * L) + np.sin(beta_b * L)) / (np.cosh(beta_b * L) * np.cos(beta_b * L) - 1),EI * beta_b ** 2 * (-np.cosh(beta_b * L) + np.cos(beta_b * L)) / (np.cosh(beta_b * L) * np.cos(beta_b * L) - 1),-EI * beta_b ** 3 * (np.cosh(beta_b * L) * np.sin(beta_b * L) + np.sinh(beta_b * L) * np.cos(beta_b * L)) / (np.cosh(beta_b * L) * np.cos(beta_b * L) - 1),-EI * np.sinh(beta_b * L) * np.sin(beta_b * L) * beta_b ** 2 / (np.cosh(beta_b * L) * np.cos(beta_b * L) - 1)],[EI * beta_b ** 2 * (np.cosh(beta_b * L) - np.cos(beta_b * L)) / (np.cosh(beta_b * L) * np.cos(beta_b * L) - 1),EI * beta_b * (-np.sinh(beta_b * L) + np.sin(beta_b * L)) / (np.cosh(beta_b * L) * np.cos(beta_b * L) - 1),-EI * np.sinh(beta_b * L) * np.sin(beta_b * L) * beta_b ** 2 / (np.cosh(beta_b * L) * np.cos(beta_b * L) - 1),EI * beta_b * (-np.cosh(beta_b * L) * np.sin(beta_b * L) + np.sinh(beta_b * L) * np.cos(beta_b * L)) / (np.cosh(beta_b * L) * np.cos(beta_b * L) - 1)]])\n",
    "\n",
    "        k[1,1] = K_beam[0,0] + (k_1_b + 1j*omega*c_1_b)\n",
    "        k[1,2] = K_beam[0,1]\n",
    "        k[1,4] = K_beam[0,2]\n",
    "        k[1,5] = K_beam[0,3]\n",
    "        k[2,1] = K_beam[1,0]\n",
    "        k[2,2] = K_beam[1,1]\n",
    "        k[2,4] = K_beam[1,2]\n",
    "        k[2,5] = K_beam[1,3]\n",
    "        k[4,1] = K_beam[2,0]\n",
    "        k[4,2] = K_beam[2,1]\n",
    "        k[4,4] = K_beam[2,2] + (k_2_b + 1j*omega*c_2_b)\n",
    "        k[4,5] = K_beam[2,3]\n",
    "        k[5,1] = K_beam[3,0]\n",
    "        k[5,2] = K_beam[3,1]\n",
    "        k[5,4] = K_beam[3,2]\n",
    "        k[5,5] = K_beam[3,3]\n",
    "\n",
    "        return np.matmul ( np.matmul ( self.Rt, k ), self.R )\n",
    "    \n",
    "    "
   ]
  },
  {
   "cell_type": "markdown",
   "metadata": {},
   "source": [
    "## The Constrainer class\n",
    "\n",
    "This small class keeps track of which DOFs have prescribed displacements and takes care of applying these constraints to the global $\\mathbf{K}$ and $\\mathbf{f}$. For now we keep it simple and assume all constraints fix the DOF values to zero. Next week we will deal with constraints to non-zero prescribed values. For the first two examples you can use this class as it is. For the third assignment, a short new function should be implemented (see below)."
   ]
  },
  {
   "cell_type": "code",
   "execution_count": 4,
   "metadata": {},
   "outputs": [],
   "source": [
    "class Constrainer:\n",
    "    def __init__ (self):\n",
    "        self.dofs = []\n",
    "\n",
    "    def fix_dof (self, node, dof):\n",
    "        self.dofs.append (node.dofs[dof])\n",
    " \n",
    "    def fix_node (self, node):\n",
    "        for dof in node.dofs:\n",
    "            self.dofs.append (dof)       \n",
    "\n",
    "    def constrain (self, k, f):\n",
    "        kc = np.copy (k)\n",
    "        fc = np.copy (f)\n",
    "        \n",
    "        for dof in self.dofs:\n",
    "            fc[dof] = 0.0\n",
    "            kc[:,dof] = kc[dof,:] = 0.0\n",
    "            kc[dof,dof]           = 1.0\n",
    "\n",
    "        return kc, fc"
   ]
  },
  {
   "cell_type": "markdown",
   "metadata": {},
   "source": [
    "## Sanity check #1: Bar in extension with elastic support instead of fixed edge...\n",
    "\n",
    "Having made our implementations, we now check them with two simple examples that serve as sanity checks. The first is a simple bar undergoing extension. \n",
    "\n",
    "#### Task: Please try to complicate one of the boundaries with an elastic or viscoelastic attachment at the end. Does the implementation of the spring-dashpot attachment in the element class work propely?"
   ]
  },
  {
   "cell_type": "markdown",
   "metadata": {},
   "source": [
    "<figure>\n",
    "  <IMG SRC=\"https://raw.githubusercontent.com/ibcmrocha/public/main/ssbeam.png\" WIDTH=200 ALIGN=\"center\">\n",
    "</figure>"
   ]
  },
  {
   "cell_type": "markdown",
   "metadata": {},
   "source": [
    "Use the code blocks below to set up and solve this problem using the classes above. The steps to follow are outlined below and short explanations/hints are given."
   ]
  },
  {
   "cell_type": "markdown",
   "metadata": {
    "tags": []
   },
   "source": [
    "### Parameters\n",
    "\n",
    "We define the parameters here for convenience. We also use the `clear` functions to restart the node, element and DOF counters. Make sure this is done whenever you start solving a new problem."
   ]
  },
  {
   "cell_type": "code",
   "execution_count": 5,
   "metadata": {},
   "outputs": [],
   "source": [
    "EA = 7e6\n",
    "EI = 1.5 * 7e06 # MODIFIED\n",
    "rhoA = 1e03  # MODIFIED\n",
    "F  = 1e06 + 0j # MODIFIED: This is just to illustrate the use of FFT. This force does not reflect a force in the time domain!\n",
    "q_r = 0*1e06 # MODIFIED\n",
    "q_b = 0 # MODIFIED\n",
    "L  = 1\n",
    "omega = 100  # MODIFIED\n",
    "ksi = 0.01 # MODIFIED\n",
    "beta_r = omega / (EA*(1+2j*ksi)/rhoA) ** 0.5 # MODIFIED\n",
    "beta_b = (omega**2 * rhoA / (EI*(1+2j*ksi))) ** 0.25 # MODIFIED\n",
    "k_1_r, k_2_r, c_1_r, c_2_r, k_1_b, k_2_b, c_1_b, c_2_b = 0, 0, 0, 0, 0, 0, 0, 0\n",
    "\n",
    "Node.clear()\n",
    "Element.clear()"
   ]
  },
  {
   "cell_type": "markdown",
   "metadata": {},
   "source": [
    "### Create nodes\n",
    "\n",
    "Create two nodes here. You can store them on a `list` or simply create them as two separate objects (*e.g.* `node1` and `node2`). \n",
    "\n",
    "**TIP**: Take a look at which arguments the `__init__` function of the `Node` class receives!"
   ]
  },
  {
   "cell_type": "code",
   "execution_count": 6,
   "metadata": {},
   "outputs": [],
   "source": [
    "node1 = Node (0,0)\n",
    "node2 = Node (L,0)"
   ]
  },
  {
   "cell_type": "markdown",
   "metadata": {},
   "source": [
    "### Create element\n",
    "\n",
    "Here we only have a single element, so there is no need to store it in a `list` yet. You are also going to need a `dict` defining the cross-section of the element.\n",
    "\n",
    "**TIP**: See what `__init__` of the `Element` class expects. Also check the `set_section` function."
   ]
  },
  {
   "cell_type": "code",
   "execution_count": 7,
   "metadata": {},
   "outputs": [],
   "source": [
    "elem = Element ( [node1, node2] )\n",
    "\n",
    "section = {}\n",
    "section['EA'] = EA\n",
    "section['EI'] = EI\n",
    "section['ksi'] = ksi  # MODIFIED\n",
    "section['rhoA'] = rhoA  # MODIFIED\n",
    "section['omega'] = omega  # MODIFIED\n",
    "section['k_1_r'] = k_1_r\n",
    "section['k_2_r'] = k_2_r\n",
    "section['c_1_r'] = c_1_r\n",
    "section['c_2_r'] = c_2_r\n",
    "section['k_1_b'] = k_1_b\n",
    "section['k_2_b'] = k_2_b\n",
    "section['c_1_b'] = c_1_b\n",
    "section['c_2_b'] = c_2_b\n",
    "\n",
    "elem.set_section (section)"
   ]
  },
  {
   "cell_type": "markdown",
   "metadata": {},
   "source": [
    "### Set boundary conditions\n",
    "\n",
    "We create an instance of the `Constrainer` class to deal with prescribed displacements. Take a look at its functions and inform it Node 1 is fully fixed.\n",
    "\n",
    "**TIP**: You also need to pass the load $F$ on to Node 2. Check the member functions of `Node` to infer how that should be done."
   ]
  },
  {
   "cell_type": "code",
   "execution_count": 8,
   "metadata": {},
   "outputs": [],
   "source": [
    "con = Constrainer()\n",
    "\n",
    "con.fix_node (node1)\n",
    "node2.add_load ([F,0,0])"
   ]
  },
  {
   "cell_type": "markdown",
   "metadata": {},
   "source": [
    "### Assemble the system of equations\n",
    "\n",
    "Since we only have one element, there is no real assembly to be performed other than getting the stiffness matrix of the single element and storing the load at Node 2 in the correct positions of $\\mathbf{f}$. To avoid confusion, we do this part for you. Just take care to change the name of the element or of Node 2 in case you used something different."
   ]
  },
  {
   "cell_type": "code",
   "execution_count": 9,
   "metadata": {},
   "outputs": [
    {
     "name": "stdout",
     "output_type": "stream",
     "text": [
      "[      0.+0.j       0.+0.j       0.+0.j 1000000.+0.j       0.+0.j\n",
      "       0.+0.j]\n"
     ]
    }
   ],
   "source": [
    "global_k = elem.stiffness()\n",
    "global_f = np.zeros (6, dtype=complex)\n",
    "\n",
    "global_f[3:6] = node2.p \n",
    "#print(global_k)\n",
    "print(global_f)"
   ]
  },
  {
   "cell_type": "markdown",
   "metadata": {},
   "source": [
    "### Constrain the problem and solve for nodal displacements\n",
    "\n",
    "Try to solve for $u$ as it is written in this block. You will notice that `global_k` is singular. Why is that the case? \n",
    "\n",
    "**TIP**: Use the `Constrainer` class to fix that! It already knows three of our DOFs are fixed to zero, you should just let it make the necessary changes to $\\mathbf{K}$ and $\\mathbf{f}$."
   ]
  },
  {
   "cell_type": "code",
   "execution_count": 10,
   "metadata": {},
   "outputs": [
    {
     "name": "stdout",
     "output_type": "stream",
     "text": [
      "[0.        +0.j         0.        +0.j         0.        +0.j\n",
      " 0.30250885-0.01361971j 0.        +0.j         0.        +0.j        ]\n"
     ]
    }
   ],
   "source": [
    "Kc, Fc = con.constrain ( global_k, global_f )\n",
    "u = np.matmul ( np.linalg.inv(Kc), Fc )\n",
    "print(u)"
   ]
  },
  {
   "cell_type": "markdown",
   "metadata": {},
   "source": [
    "### Compare with the solution you know\n",
    "\n",
    "Finally, compare the displacement at the end of the bar with the one coming from the ODE solution. Note that $\\mathbf{u}$ has six entries. Which one is the entry that matters to us here?\n",
    "\n",
    "**TIP**: Remember the DOF ordering we assume ($\\left[u\\,\\,w\\,\\,\\varphi\\right]$) and the order we use to create our nodes (check `__init__` of the `Node` class one more time!)"
   ]
  },
  {
   "cell_type": "code",
   "execution_count": 11,
   "metadata": {},
   "outputs": [
    {
     "name": "stdout",
     "output_type": "stream",
     "text": [
      "ODE solution (0.30250884529318846290, - 0.013619705006987083063 j) Matrix method solution (0.30250884529318856-0.013619705006987096j)\n"
     ]
    }
   ],
   "source": [
    "print('ODE solution (0.30250884529318846290, - 0.013619705006987083063 j)','Matrix method solution',u[3]) \n",
    "# CHECK MAPLE FILE FOR ANALYTICAL DERIVATION"
   ]
  },
  {
   "cell_type": "markdown",
   "metadata": {},
   "source": [
    "### Task: Please try to upload a time signal of your choice and apply the FFT method. What changes do you need to implement in the code to be able to find the response in the time domain?"
   ]
  },
  {
   "cell_type": "markdown",
   "metadata": {},
   "source": [
    "### Obtain the response in time domain\n",
    "\n",
    "The response can be retrieved in the time domain by means of the FFT algorithm as follows:"
   ]
  },
  {
   "cell_type": "code",
   "execution_count": 12,
   "metadata": {},
   "outputs": [
    {
     "data": {
      "text/plain": [
       "Text(0,0.5,'u [m]')"
      ]
     },
     "execution_count": 12,
     "metadata": {},
     "output_type": "execute_result"
    },
    {
     "data": {
      "image/png": "[encoded data removed]",
      "text/plain": [
       "<Figure size 432x288 with 1 Axes>"
      ]
     },
     "metadata": {},
     "output_type": "display_data"
    }
   ],
   "source": [
    "t = np.arange(0, 5*2*np.pi/omega, 2*np.pi/omega/100) # A time series with 5 periods duration and time step equal to 1% of the period (the period of the force above)\n",
    "\n",
    "freqs = np.fft.fftfreq(len(t), t[1]) # Frequencies corresponding to an FFT of a signal recorded at a time series t.\n",
    "\n",
    "u_fd = np.zeros((len(u),len(freqs)), dtype=complex) # Initializing frequency domain signal \n",
    "\n",
    "u_fd[:, 5] = u # Assigning to the 6-th column the displacement vector at frequency domain\n",
    "\n",
    "u_td = np.fft.ifft(u_fd) * len(t) # Recorded signal in time domain. \n",
    "\n",
    "plt.figure()\n",
    "plt.plot(t, u_td[3].real)\n",
    "plt.plot(t, u_td[3].imag)\n",
    "plt.xlabel('t [s]')\n",
    "plt.ylabel('u [m]')\n",
    "#plt.close()"
   ]
  },
  {
   "cell_type": "code",
   "execution_count": null,
   "metadata": {},
   "outputs": [],
   "source": []
  },
  {
   "cell_type": "code",
   "execution_count": null,
   "metadata": {},
   "outputs": [],
   "source": []
  }
 ],
 "metadata": {
  "kernelspec": {
   "display_name": "Python 3",
   "language": "python",
   "name": "python3"
  },
  "language_info": {
   "codemirror_mode": {
    "name": "ipython",
    "version": 3
   },
   "file_extension": ".py",
   "mimetype": "text/x-python",
   "name": "python",
   "nbconvert_exporter": "python",
   "pygments_lexer": "ipython3",
   "version": "3.6.6"
  },
  "latex_envs": {
   "LaTeX_envs_menu_present": true,
   "autoclose": false,
   "autocomplete": true,
   "bibliofile": "biblio.bib",
   "cite_by": "apalike",
   "current_citInitial": 1,
   "eqLabelWithNumbers": true,
   "eqNumInitial": 1,
   "hotkeys": {
    "equation": "Ctrl-E",
    "itemize": "Ctrl-I"
   },
   "labels_anchors": false,
   "latex_user_defs": false,
   "report_style_numbering": false,
   "user_envs_cfg": false
  }
 },
 "nbformat": 4,
 "nbformat_minor": 5
}
