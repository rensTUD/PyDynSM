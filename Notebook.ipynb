{
 "cells": [
  {
   "cell_type": "markdown",
   "metadata": {},
   "source": [
    "# DSM for *rod in elastic foundation*\n",
    "\n",
    "This problem considers an element defined as a rod that is embedded in soil. The soil acting on the rod is considered as an elastic distributed foundation.\n",
    "Firstly, the necessary libraries and predefined classes will be imported. \n"
   ]
  },
  {
   "cell_type": "code",
   "execution_count": 8,
   "metadata": {},
   "outputs": [],
   "source": [
    "# Import default libraries\n",
    "import numpy as np\n",
    "import numpy.linalg as LA\n",
    "import matplotlib.pyplot as plt\n",
    "import scipy.optimize as opt\n",
    "import os\n",
    "# Import classes\n",
    "# import 1D_rod_foundation\n"
   ]
  },
  {
   "cell_type": "code",
   "execution_count": 19,
   "metadata": {},
   "outputs": [
    {
     "data": {
      "text/plain": [
       "'c:\\\\Users\\\\Mariana\\\\OneDrive\\\\Documents\\\\Desktop\\\\MSc SE\\\\TA\\\\Rod in elastic foundation'"
      ]
     },
     "execution_count": 19,
     "metadata": {},
     "output_type": "execute_result"
    }
   ],
   "source": [
    "os.getcwd()\n",
    "#sys.path.append(\"C:/Users/Mariana/OneDrive/Documents/Desktop/MSc SE/TA/Rod in elastic foundation/DSM/elements\")\n",
    "#from 1D_rod_foundation.py import Rod"
   ]
  },
  {
   "cell_type": "code",
   "execution_count": null,
   "metadata": {},
   "outputs": [],
   "source": []
  },
  {
   "cell_type": "code",
   "execution_count": null,
   "metadata": {},
   "outputs": [],
   "source": []
  }
 ],
 "metadata": {
  "kernelspec": {
   "display_name": "base",
   "language": "python",
   "name": "python3"
  },
  "language_info": {
   "codemirror_mode": {
    "name": "ipython",
    "version": 3
   },
   "file_extension": ".py",
   "mimetype": "text/x-python",
   "name": "python",
   "nbconvert_exporter": "python",
   "pygments_lexer": "ipython3",
   "version": "3.9.13"
  }
 },
 "nbformat": 4,
 "nbformat_minor": 2
}
