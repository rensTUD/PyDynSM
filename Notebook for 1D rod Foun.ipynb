{
 "cells": [
  {
   "cell_type": "markdown",
   "metadata": {},
   "source": [
    "# Dynamic Stiffness Matrix (DSM) for *1D Rod on Visco-Elastic Support*\n",
    "\n",
    "In this note book, we will introduce the 1D rod element on a Visco-Elastic Support in our PyDynSM library to you!\n",
    "\n",
    "Firstly, the necessary libraries and predefined classes will be imported. "
   ]
  },
  {
   "cell_type": "code",
   "execution_count": 1,
   "metadata": {},
   "outputs": [],
   "source": [
    "# Import default libraries\n",
    "import numpy as np\n",
    "import numpy.linalg as LA\n",
    "import matplotlib.pyplot as plt\n",
    "import scipy.optimize as opt\n",
    "import pydynsm as PDM\n"
   ]
  },
  {
   "cell_type": "markdown",
   "metadata": {},
   "source": [
    "## 1-D Rod on Visco-Elastic support in harmonic motion"
   ]
  },
  {
   "cell_type": "markdown",
   "metadata": {},
   "source": [
    "<center>\n",
    "<img src=\"images_notebook\\1D_rod_ViscoElasticV2.png\" alt=\"f1\" width=\"50%\" height=\"40%\">\n",
    "</center>"
   ]
  },
  {
   "cell_type": "markdown",
   "metadata": {},
   "source": [
    "> **Figure 1**: 1D Elastic Rod element on Visco-Elastic Supports with two *free ends*"
   ]
  },
  {
   "cell_type": "markdown",
   "metadata": {},
   "source": [
    "### Theory\n",
    "\n",
    "\n",
    "You can expect this type of a conditions for a pile that is subjected to a driving force. We will now see how DSM method works to get steady state response of this 1D elastic bar with Visco-Elastic Supports subjected to dynamic excitations:"
   ]
  },
  {
   "cell_type": "markdown",
   "metadata": {},
   "source": [
    "<div style=\"background-color:#AABAB2; color: black; vertical-align: middle; padding:15px; margin: 10px; border-radius: 10px\">\n",
    "<p>\n",
    "<b> Step 1: Equation of Motion:</b> \n",
    "\n",
    "This system has the following form of equation of motion (EOM):\n",
    "\n",
    "$$\n",
    "\\rho A\\frac{\\partial^2 u(x,t)}{\\partial t^2} - EA\\frac{\\partial^2 u(x,t)}{\\partial x^2} + k_d u(x,t) + c_d \\frac{\\partial u(x,t)}{\\partial t} = 0, \\quad 0<x<L\n",
    "$$\n",
    "\n",
    "Do you know that this EOM represents the Equilibrium of forces on a small differential element of the Rod?\n",
    "\n",
    "We search for the solution to this EOM in the form \n",
    "\n",
    "$$\n",
    "u(x,t) = \\tilde{U}(x)\\exp(i\\Omega t)\n",
    "$$\n",
    "\n",
    "which is a Steady-State solution, because we assume the effect of Initial conditions have dampened out! $\\Omega$ is the frequency of externally applied load.\n",
    "<!-- If the wave velocity in 1D elastic bar $c_\\mathrm{b}$ was defined as below:> \n",
    "\n",
    "$$\n",
    "c_\\mathrm{b} = \\sqrt{\\frac{E}{\\rho}}\n",
    "$$-\n",
    "\n",
    "we could rewrite the equation of motion as:\n",
    "\n",
    "$$\n",
    "\\frac{\\partial^2 u(x,t)}{\\partial t^2} - c^2_\\mathrm{b}\\frac{\\partial^2 u(x,t)}{\\partial x^2} + \\frac{1}{\\rho A} (k_d + \\epsilon_d \\frac{\\partial}{\\partial t}) u(x,t) = 0, \\quad 0<x<L\n",
    "$$ -->\n",
    "\n",
    "</div>"
   ]
  },
  {
   "cell_type": "markdown",
   "metadata": {},
   "source": [
    "<div style=\"background-color:#AABAB2; color: black; vertical-align: middle; padding:15px; margin: 10px; border-radius: 10px\">\n",
    "<p>\n",
    "<b> Step 2: Boundary Conditions:</b> \n",
    "\n",
    "Assuming **harmonic force and displacements**, we have the following Boundary conditions at two nodes\n",
    "\n",
    "*Dirichlet Boundary Conditions:*\n",
    "\n",
    "at $x=0$：\n",
    "\n",
    "$$\n",
    "u(0,t) = \\tilde{U}_1\\exp{\\left(\\mathrm{i}\\Omega t\\right)}\n",
    "$$\n",
    "\n",
    "at $x=L$：\n",
    "\n",
    "$$\n",
    "u(L,t) = \\tilde{U}_2\\exp{\\left(\\mathrm{i}\\Omega t\\right)}\n",
    "$$\n",
    "\n",
    "\n",
    "If you write the corresponding Normal Force in the Rod at both the ends:\n",
    "\n",
    "at $x=0$：\n",
    "\n",
    "$$\n",
    "N(0,t) = -\\tilde{F}_1\\exp{\\left(\\mathrm{i}\\Omega t\\right)}\n",
    "$$\n",
    "\n",
    "at $x=L$：\n",
    "\n",
    "$$\n",
    "N(L,t) = \\tilde{F}_2\\exp{\\left({\\mathrm{i}\\Omega t}\\right)}\n",
    "$$\n",
    "</div>"
   ]
  },
  {
   "cell_type": "markdown",
   "metadata": {},
   "source": [
    "<div style=\"background-color:#AABAB2; color: black; vertical-align: middle; padding:15px; margin: 10px; border-radius: 10px\">\n",
    "<p>\n",
    "<b> Step 3: Reduced equations of motion and BCs:</b> \n",
    "\n",
    "By substituting the Steady-State solution into the EOM, we enter the Frequency domain\n",
    "\n",
    "$$\n",
    "\\frac{d^2 \\tilde U(x)}{d x^2} + \\beta^2 \\tilde U(x) = 0\n",
    "$$\n",
    "\n",
    "where $\\displaystyle \\beta = \\sqrt \\frac{\\rho A \\Omega^2 - k_d - i \\Omega c_d}{EA}$\n",
    "\n",
    "Substituting the Steady-State solution into the Boundary conditions, we convert them into Frequency domain (We get reduced from of Boundary conditions):\n",
    "<!-- \n",
    "*Dirichilet Boundary Conditions:* -->\n",
    "\n",
    "at $x=0$：\n",
    "\n",
    "$$\n",
    "\\tilde U(0) = \\tilde{U}_1\n",
    "$$\n",
    "\n",
    "at $x=L$：\n",
    "\n",
    "$$\n",
    "\\tilde U(L) = \\tilde{U}_2\n",
    "$$\n",
    "\n",
    "Corresponding Normal Forces (in Frequency Domain)\n",
    "\n",
    "at $x=0$：\n",
    "\n",
    "$$\n",
    "EA\\tilde U'(0) = -\\tilde{F}_1\n",
    "$$\n",
    "\n",
    "at $x=L$：\n",
    "\n",
    "$$\n",
    "EA\\tilde U'(L) = \\tilde{F}_2\n",
    "$$\n",
    "\n",
    "</div>"
   ]
  },
  {
   "cell_type": "markdown",
   "metadata": {},
   "source": [
    "<div style=\"background-color:#AABAB2; color: black; vertical-align: middle; padding:15px; margin: 10px; border-radius: 10px\">\n",
    "<p>\n",
    "<b> Step 4: Forming DSMs:</b> \n",
    "\n",
    "Now, we successfully reduced our PDE to ODE in frequency domain.\n",
    "\n",
    "The general solution to the EOM in the Frequency Domain is given as:\n",
    "\n",
    "$$\n",
    "\\tilde U(x) = C_1\\exp\\left(-\\mathrm{i}\\alpha _1 x\\right) + C_2\\exp\\left(-\\mathrm{i}\\alpha _2 x\\right)\n",
    "$$\n",
    "\n",
    "where $\\alpha _1 = +\\beta$ and $\\alpha _2 = - \\beta $. We use -ve sign inside the exponential for Numerical Stability.\n",
    "\n",
    "Subtitute above into *Dirichilet Boundary Conditions*, we have $\\mathbf{U}=\\mathbf{A}\\mathbf{C}$\n",
    "\n",
    "$$\n",
    "\\begin{bmatrix}\n",
    "    \\tilde U_1 \\\\\n",
    "    \\tilde U_2 \\\\\n",
    "\\end{bmatrix}\n",
    "= \n",
    "\\begin{bmatrix}\n",
    "    A_{11}& A_{12} \\\\\n",
    "    A_{21}& A_{22} \\\\\n",
    "\\end{bmatrix}\n",
    "\n",
    "\\begin{bmatrix}\n",
    "    C_1 \\\\\n",
    "    C_2 \\\\\n",
    "\\end{bmatrix}\n",
    "\n",
    "$$\n",
    "\n",
    "\n",
    "Similarly Operations to *Neumann Boundary Conditions*, we have $\\mathbf{f}=\\mathbf{B}\\mathbf{C}$\n",
    "\n",
    "$$\n",
    "\\begin{bmatrix}\n",
    "    \\tilde F_1 \\\\\n",
    "    \\tilde F_2 \\\\\n",
    "\\end{bmatrix}\n",
    "= \n",
    "\\begin{bmatrix}\n",
    "    B_{11}& B_{12} \\\\\n",
    "    B_{21}& B_{22} \\\\\n",
    "\\end{bmatrix}\n",
    "\n",
    "\\begin{bmatrix}\n",
    "    C_1 \\\\\n",
    "    C_2 \\\\\n",
    "\\end{bmatrix}\n",
    "$$\n",
    "\n",
    "Finally, we could have the expression for relationship between $\\mathbf{f}$ and $\\mathbf{U}$, which is\n",
    "\n",
    "$$\n",
    "\\mathbf{f} = \\left(\\mathbf{B}\\mathbf{A}^{-1}\\right)\\mathbf{U}=\\mathbf{K}_\\mathrm{d}\\mathbf{U}\n",
    "$$\n",
    "\n",
    "where $\\mathbf{K}_\\mathrm{d} = \\mathbf{B}\\mathbf{A}^{-1}$ is the Element Dynamic stiffness matrix in the Local Coordinate system.\n",
    "\n",
    "**Question 1**: Do you know that the Matrix form of Equation (f = $K_d$ U) represent Force equilibrium at Nodes?\n",
    "\n",
    "**Question 2**: Does the dynamic stiffness matrix, Kd for a rod with Visco-Elastic supports look similar to that of a simple rod? Where is the difference? What is the physical meaning behind this similarity and the difference?\n",
    "\n",
    "</div>"
   ]
  },
  {
   "cell_type": "markdown",
   "metadata": {},
   "source": [
    "Ideally, this is how DSM method works! \n",
    "\n",
    "For given system, we could get nodal displacements once the nodal loading was given and the Element's Dynamic Stiffness Matrix (DSM) is known. However, the DSM may differ for different structural system (especially if we change boundary conditions of the elemnt!) which you will see later. \n",
    "\n",
    "\n",
    "\n",
    "Let us try to implement them using example below:"
   ]
  },
  {
   "cell_type": "markdown",
   "metadata": {},
   "source": [
    "<center>\n",
    "<img src=\"images_notebook\\1Drod_Example.png\" alt=\"f1\" width=\"70%\" height=\"60%\">\n",
    "</center>"
   ]
  },
  {
   "cell_type": "markdown",
   "metadata": {},
   "source": [
    "> **Figure C1.2**: 1D elastic bar on Visco-Elastic Foundation with *one fixed end*"
   ]
  },
  {
   "cell_type": "markdown",
   "metadata": {},
   "source": [
    "### Implementations\n",
    "\n",
    "Our DSM method implementation is now completely stored in a local package, consisting of a few classes. If you need a refresher on how to code with Classes and Objects, refer to the [MUDE book on Object Oriented Programming](https://mude.citg.tudelft.nl/2023/book/external/learn-python/other_python_stuff/year2/python_topics/classes.html). \n",
    "\n",
    "But do not worry, you could still successfully apply them by following steps here."
   ]
  },
  {
   "cell_type": "markdown",
   "metadata": {},
   "source": [
    "<div style=\"background-color:#AABAB2; color: black; vertical-align: middle; padding:15px; margin: 10px; border-radius: 10px\">\n",
    "<p>\n",
    "<b> Initialize assembler:</b> \n",
    "\n",
    "Firstly, we initialise an assembler with a project name, like`1D Rod with ViscoElastic Foundation` here. In this section, you can choose a name of the project you like! \n",
    "\n",
    "The assember class here is like the '*brain*' of DSM, where all analysis will be done.\n",
    "\n",
    "</div>\n"
   ]
  },
  {
   "cell_type": "code",
   "execution_count": 2,
   "metadata": {},
   "outputs": [
    {
     "name": "stdout",
     "output_type": "stream",
     "text": [
      "Assembler '1D Rod with ViscoElastic Foundation' successfully initialised\n"
     ]
    }
   ],
   "source": [
    "Assembler = PDM.Assembler  #Import the Assembler class from the PDM module\n",
    "\n",
    "s1 = Assembler('1D Rod with ViscoElastic Foundation',analysis_type='new')"
   ]
  },
  {
   "cell_type": "markdown",
   "metadata": {},
   "source": [
    "<div style=\"background-color:#AABAB2; color: black; vertical-align: middle; padding:15px; margin: 10px; border-radius: 10px\">\n",
    "<p>\n",
    "\n",
    "You should see `Assembler '1D Rod with ViscoElastic Foundation' successfully initialised` by running cell above, suggesting our assembler is set correctly!\n",
    "\n",
    "</div>"
   ]
  },
  {
   "cell_type": "markdown",
   "metadata": {},
   "source": [
    "<div style=\"background-color:#AABAB2; color: black; vertical-align: middle; padding:15px; margin: 10px; border-radius: 10px\">\n",
    "<p>\n",
    "<b> Define properties:</b> \n",
    "\n",
    "Then we define some parameters here, which would be used as material properties later:\n",
    "\n",
    "</div>"
   ]
  },
  {
   "cell_type": "code",
   "execution_count": 3,
   "metadata": {},
   "outputs": [],
   "source": [
    "# define material properties here\n",
    "E = 7e6                                  # Young's modulus\n",
    "A = 1                                 # Cross-sectional area\n",
    "rho = 1e3                                  # Density\n",
    "ksi = 0.01                                 # Damping coefficient\n",
    "\n",
    "# define geometrical properties here\n",
    "L = 1                                      # Length of the rod\n",
    "\n",
    "# define loading parameters here\n",
    "F_0 = 1e06 + 0j                            # Force amplitude                                  \n",
    "Omega = 100                                # Force frequency\n",
    "\n",
    "kd = 1e06                             # Distributed Spring stiffness\n",
    "cd = 1e06                             # Distributed Spring stiffness"
   ]
  },
  {
   "cell_type": "markdown",
   "metadata": {},
   "source": [
    "<div style=\"background-color:#AABAB2; color: black; vertical-align: middle; padding:15px; margin: 10px; border-radius: 10px\">\n",
    "<p>\n",
    "<b> Create nodes:</b> \n",
    "\n",
    "Then we create nodes by using `CreateNode(A,B)` from the class `assemble`, where `(A,B)` is the catersian coordinate of a specific node.\n",
    "</div>"
   ]
  },
  {
   "cell_type": "code",
   "execution_count": 4,
   "metadata": {},
   "outputs": [],
   "source": [
    "node1 = s1.CreateNode(0,0)\n",
    "node2 = s1.CreateNode(L,0)"
   ]
  },
  {
   "cell_type": "markdown",
   "metadata": {},
   "source": [
    "<div style=\"background-color:#AABAB2; color: black; vertical-align: middle; padding:15px; margin: 10px; border-radius: 10px\">\n",
    "<p>\n",
    "\n",
    "Now `assemble` should have already assign `(A,B)` as one of the *attributes* for `assemble.node` class, we can check it by function `get_coords()`\n",
    "\n",
    "</div>"
   ]
  },
  {
   "cell_type": "code",
   "execution_count": 5,
   "metadata": {},
   "outputs": [
    {
     "name": "stdout",
     "output_type": "stream",
     "text": [
      "The coordinate of node 1 is (0, 0, 0)\n",
      "The coordinate of node 2 is (1, 0, 0)\n"
     ]
    }
   ],
   "source": [
    "print(f'The coordinate of node 1 is {node1.get_coords()}')\n",
    "print(f'The coordinate of node 2 is {node2.get_coords()}')"
   ]
  },
  {
   "cell_type": "markdown",
   "metadata": {},
   "source": [
    "<div style=\"background-color:#AABAB2; color: black; vertical-align: middle; padding:15px; margin: 10px; border-radius: 10px\">\n",
    "<p>\n",
    "<b> Create elements:</b>\n",
    "\n",
    "After drawing points, the next thing to do is connecting them by one `element`, similarly, we could simply use `CreateElement([node A, node B])` function from class `assembler`.\n",
    "\n",
    "where `node A` and `node B` are created `node`\n",
    "\n",
    "</div>"
   ]
  },
  {
   "cell_type": "code",
   "execution_count": 6,
   "metadata": {},
   "outputs": [],
   "source": [
    "elem = s1.CreateElement([node1, node2])"
   ]
  },
  {
   "cell_type": "markdown",
   "metadata": {},
   "source": [
    "<div style=\"background-color:#AABAB2; color: black; vertical-align: middle; padding:15px; margin: 10px; border-radius: 10px\">\n",
    "<p>\n",
    "\n",
    "Finally, we could visualize created nodes and elements by using function `Plotstructure()`\n",
    "\n",
    "</div>"
   ]
  },
  {
   "cell_type": "code",
   "execution_count": 7,
   "metadata": {},
   "outputs": [
    {
     "data": {
      "image/png": "[encoded data removed]",
      "text/plain": [
       "<Figure size 1000x600 with 1 Axes>"
      ]
     },
     "metadata": {},
     "output_type": "display_data"
    }
   ],
   "source": [
    "s1.PlotStructure(plot_elements=True)"
   ]
  },
  {
   "cell_type": "markdown",
   "metadata": {},
   "source": [
    "<div style=\"background-color:#AABAB2; color: black; vertical-align: middle; padding:15px; margin: 10px; border-radius: 10px\">\n",
    "<p>\n",
    "<b> Add constraints:</b> \n",
    "\n",
    "Next step is to fix node 1, we have several ways to do that!\n",
    "\n",
    "let us firstly try `fix_node()` function from `node` class, which is used to fix all DoFs of given node.\n",
    "\n",
    "</div>"
   ]
  },
  {
   "cell_type": "code",
   "execution_count": 8,
   "metadata": {},
   "outputs": [
    {
     "name": "stdout",
     "output_type": "stream",
     "text": [
      "Global DOF 'x' for node 0 updated to 0.\n",
      "Global DOF 'x' with value '0' applied to connected elements.\n",
      "Global DOF 'z' for node 0 updated to 0.\n",
      "Global DOF 'z' with value '0' applied to connected elements.\n",
      "Global DOF 'phi_y' for node 0 updated to 0.\n",
      "Global DOF 'phi_y' with value '0' applied to connected elements.\n",
      "Global DOF 'z' for node 1 updated to 0.\n",
      "Global DOF 'z' with value '0' applied to connected elements.\n",
      "Global DOF 'phi_y' for node 1 updated to 0.\n",
      "Global DOF 'phi_y' with value '0' applied to connected elements.\n"
     ]
    }
   ],
   "source": [
    "node1.fix_node('x','z', 'phi_y')\n",
    "node2.fix_node('z', 'phi_y')"
   ]
  },
  {
   "cell_type": "markdown",
   "metadata": {},
   "source": [
    "<div style=\"background-color:#AABAB2; color: black; vertical-align: middle; padding:15px; margin: 10px; border-radius: 10px\">\n",
    "<p>\n",
    "\n",
    "After running the cell above, you should see:\n",
    "\n",
    "`Global DOF 'x' with value '0' applied to connected elements.`\n",
    "\n",
    "`Global DOF 'z' with value '0' applied to connected elements.`\n",
    "\n",
    "`Global DOF 'phi_y' with value '0' applied to connected elements.`\n",
    "\n",
    "which suggests three degrees of freedoms of node1 have been fixed successfully! \n",
    "\n",
    "</div>"
   ]
  },
  {
   "cell_type": "markdown",
   "metadata": {},
   "source": [
    "<div style=\"background-color:#AABAB2; color: black; vertical-align: middle; padding:15px; margin: 10px; border-radius: 10px\">\n",
    "<p>\n",
    "<b> Add constraints:</b> \n",
    "\n",
    "Alternatively, we can still do that from `element` class, using `.fix_dof(nodeA, dofs)`, here `nodeA` and `dofs` stands for specific node and dofs you want to fix!\n",
    "\n",
    "For instance, we want to fix DoF `[x, z, phi_y]` of `node1` by running cell below:\n",
    "\n",
    "\n",
    "</div>"
   ]
  },
  {
   "cell_type": "code",
   "execution_count": 9,
   "metadata": {},
   "outputs": [],
   "source": [
    "elem.fix_dof(node1, 'x', 'z', 'phi_y')\n",
    "elem.fix_dof(node2, 'z', 'phi_y')"
   ]
  },
  {
   "cell_type": "markdown",
   "metadata": {},
   "source": [
    "<div style=\"background-color:#AABAB2; color: black; vertical-align: middle; padding:15px; margin: 10px; border-radius: 10px\">\n",
    "<p>\n",
    "<b> Set section:</b> \n",
    "\n",
    "After drawing element, we want set section properties for the element here.\n",
    "\n",
    "In our method, element could be characterised by `element type` and `element properties`.\n",
    "\n",
    "Here we use `set_section(element type, element properties)`, where `element type` should be `Rod` if we want to draw a *1D rod* as shown in Figure C1.1. \n",
    "\n",
    "Besides, it is also supposed to have some material properties like `EA` ($EA$) and `rhoA` ($\\rho A$).\n",
    "\n",
    "</div>"
   ]
  },
  {
   "cell_type": "code",
   "execution_count": 10,
   "metadata": {},
   "outputs": [
    {
     "name": "stdout",
     "output_type": "stream",
     "text": [
      "Successfully added element of type: Rod over viscoelastic foundation to Element 0\n"
     ]
    }
   ],
   "source": [
    "# elem.SetSection('Rod', {EA, rhoA})\n",
    "# elem.SetSection('Rod', {'E': E, 'A': A, 'rho': rho, 'ksi': ksi})\t\n",
    "elem.SetSection('Rod over viscoelastic foundation', {'E': E, 'A': A, 'rho': rho, 'ksi': ksi, 'L': L, 'kd': kd, 'cd': cd})\t"
   ]
  },
  {
   "cell_type": "markdown",
   "metadata": {},
   "source": [
    "<div style=\"background-color:#AABAB2; color: black; vertical-align: middle; padding:15px; margin: 10px; border-radius: 10px\">\n",
    "<p>\n",
    "<b> Set section:</b> \n",
    "\n",
    "Run cell above, you should see\n",
    "\n",
    "`Exception occurred - Missing required parameters for element 'Rod': rho, A, E`\n",
    "\n",
    "which suggests that the element has been defined successfully in terms of their `type` and `properties`.\n",
    "\n",
    "Let us try some other type like `Rod1`, which is not one of our products in the `Element Factory`, to see what will happen.\n",
    "\n",
    "</div>"
   ]
  },
  {
   "cell_type": "code",
   "execution_count": 11,
   "metadata": {},
   "outputs": [],
   "source": [
    "# elem.SetSection('Rod1', {'EA': EA, 'rhoA':rhoA})"
   ]
  },
  {
   "cell_type": "markdown",
   "metadata": {},
   "source": [
    "<div style=\"background-color:#AABAB2; color: black; vertical-align: middle; padding:15px; margin: 10px; border-radius: 10px\">\n",
    "<p>\n",
    "\n",
    "Run cell above, you should see\n",
    "\n",
    "`Exception occurred - No element registered with name: Rod1.`\n",
    "\n",
    "It seems that `Rod1` does not match our method successfully :(  Please use the right name for element!\n",
    "\n",
    "You should also see some other products, and you may use some of them later.\n",
    "\n",
    "- `Rod over viscoelastic foundation`\n",
    "- `Rayleigh-Bishop Rod`\n",
    "- `Rayleigh-Love Rod`\n",
    "- `EulerBernoulli Beam`\n",
    "- `EulerBernoulli Beam with foundation`\n",
    "- `Tensioned EulerBernoulli Beam`\n",
    "- `Rayleigh Beam`\n",
    "\n",
    "\n",
    "</div>"
   ]
  },
  {
   "cell_type": "markdown",
   "metadata": {},
   "source": [
    "<div style=\"background-color:#AABAB2; color: black; vertical-align: middle; padding:15px; margin: 10px; border-radius: 10px\">\n",
    "<p>\n",
    "<b> Define load in frequency domain:</b> \n",
    "\n",
    "Now we want to define a harmonic load $F_0\\cos(\\Omega t)$ in frequency domain by **Fourier Transform**.\n",
    "\n",
    "**Question**: Try to derive fourier transform of a harmonic function with single frequency as well as unit amplitude $\\cos\\left(\\Omega t\\right)$, What should the signal look like in freuqency domain?\n",
    "\n",
    "**Answer**: $\\mathcal{F}\\{\\cos(\\omega_0 t)\\} = \\pi \\left[ \\delta(\\omega - \\Omega) + \\delta(\\omega + \\Omega) \\right]$\n",
    "\n",
    "You should notice that it has two spikes in the frequency domain, we are interested in the spike related to $+\\Omega$, which is  $\\delta(\\omega - \\Omega)$, hence the force in frequency domain should be in the form:\n",
    "\n",
    "$$\n",
    "\\tilde F = F_0\\delta(\\omega - \\Omega)\n",
    "$$\n",
    "\n",
    "which means it has amplitude only if $\\omega = \\Omega$\n",
    "\n",
    "Here we could use `lambda` function to define the load, also a plot was generated to see how the force looks like:"
   ]
  },
  {
   "cell_type": "code",
   "execution_count": 12,
   "metadata": {},
   "outputs": [
    {
     "name": "stderr",
     "output_type": "stream",
     "text": [
      "c:\\Users\\srich\\anaconda3\\envs\\mude-opt\\Lib\\site-packages\\numpy\\ma\\core.py:3387: ComplexWarning: Casting complex values to real discards the imaginary part\n",
      "  _data[indx] = dval\n",
      "c:\\Users\\srich\\anaconda3\\envs\\mude-opt\\Lib\\site-packages\\matplotlib\\cbook.py:1699: ComplexWarning: Casting complex values to real discards the imaginary part\n",
      "  return math.isfinite(val)\n",
      "c:\\Users\\srich\\anaconda3\\envs\\mude-opt\\Lib\\site-packages\\matplotlib\\cbook.py:1345: ComplexWarning: Casting complex values to real discards the imaginary part\n",
      "  return np.asarray(x, float)\n"
     ]
    },
    {
     "data": {
      "image/png": "[encoded data removed]",
      "text/plain": [
       "<Figure size 800x400 with 1 Axes>"
      ]
     },
     "metadata": {},
     "output_type": "display_data"
    }
   ],
   "source": [
    "tolerance = 1e-17\n",
    "F_omega = lambda omega: F_0 if abs(omega - Omega) < tolerance else 0\n",
    "\n",
    "\n",
    "# draw a diagram to see how it looks like:\n",
    "\n",
    "\n",
    "# Generate the range of omega values\n",
    "omega_values = np.linspace(0, 200, 41)\n",
    "F_values_lambda = [F_omega(omega) for omega in omega_values]\n",
    "\n",
    "# Plot the result using the lambda function\n",
    "plt.figure(figsize=(8, 4))\n",
    "plt.stem(omega_values, F_values_lambda, basefmt=\" \")\n",
    "plt.xlabel('Frequency ($\\omega$)')\n",
    "plt.ylabel('F($\\omega$)')\n",
    "plt.title(r'Plot of $\\tilde{F}(\\omega)$')\n",
    "plt.grid(True)\n",
    "plt.show()"
   ]
  },
  {
   "cell_type": "markdown",
   "metadata": {},
   "source": [
    "<div style=\"background-color:#AABAB2; color: black; vertical-align: middle; padding:15px; margin: 10px; border-radius: 10px\">\n",
    "<p>\n",
    "<b> Get the global constrained stiffness and force:</b> \n",
    "\n",
    "Since `node`, `element` and load have already be defined, now we want to assemble the **global dynamic stiffness matrix $\\mathbf{K}_\\mathrm{d}(\\omega)$** and **Force vector $\\mathbf{F}$**:"
   ]
  },
  {
   "cell_type": "code",
   "execution_count": 13,
   "metadata": {},
   "outputs": [],
   "source": [
    "# F_global = s1.GlobalForce(100)\n",
    "node2.add_load(x=F_omega)"
   ]
  },
  {
   "cell_type": "markdown",
   "metadata": {},
   "source": [
    "<div style=\"background-color:#AABAB2; color: black; vertical-align: middle; padding:15px; margin: 10px; border-radius: 10px\">\n",
    "<p>\n",
    "\n",
    "<b>Conectivity informaion</b>\n",
    "\n",
    "It seems the load has been defined correctly in frequency domain before being added to the free node here. Normally, we did it by using function `.add_load(x=F_x,y=F_y,z=F_z)` under `node` class.\n",
    "\n",
    "</div>"
   ]
  },
  {
   "cell_type": "code",
   "execution_count": 14,
   "metadata": {},
   "outputs": [],
   "source": [
    "s1.run_connectivity()"
   ]
  },
  {
   "cell_type": "markdown",
   "metadata": {},
   "source": [
    "<div style=\"background-color:#AABAB2; color: black; vertical-align: middle; padding:15px; margin: 10px; border-radius: 10px\">\n",
    "<p>\n",
    "<b> Get the global stiffness and force:</b> \n",
    "\n",
    "Since `node`, `element` and load have already be well-defined, now we want to assemble the **global dynamic stiffness matrix $\\mathbf{K}_\\mathrm{d}(\\Omega)$** and **Force vector $\\mathbf{F}$**."
   ]
  },
  {
   "cell_type": "code",
   "execution_count": 15,
   "metadata": {},
   "outputs": [],
   "source": [
    "K_global = s1.GlobalStiffness(Omega)\n",
    "F_global = s1.GlobalForce(Omega)"
   ]
  },
  {
   "cell_type": "markdown",
   "metadata": {},
   "source": [
    "<div style=\"background-color:#AABAB2; color: black; vertical-align: middle; padding:15px; margin: 10px; border-radius: 10px\">\n",
    "<p>\n",
    "<b> Obtain constrained global stiffness and force:</b> \n",
    "\n",
    "Now we want to get constrained **global dynamic stiffness matrix** `Kc_global` and **Force vector** `Fc_global` in terms of *dirichilet boundary conditions*. \n",
    "\n",
    "It is called *static condensation* (see also lectures slides of matrix method in statics part). We could make a subdivision of matrix based on 2 types of DoFs\n",
    "\n",
    "- $f$ - free dofs\n",
    "- $c$ - constrained dofs\n",
    "\n",
    "$$\n",
    "\\left[\n",
    "\\begin{array}{c:c}\n",
    "\\mathbf{K}_{cc}(\\Omega) & \\mathbf{K}_{cf}(\\Omega)\\\\\n",
    "\\hdashline\n",
    "\\mathbf{K}_{fc}(\\Omega) & \\mathbf{K}_{ff}(\\Omega)\n",
    "\\end{array}\n",
    "\\right]\n",
    "\\left[\n",
    "\\begin{array}{c}\n",
    "\\mathbf{u}_c(\\Omega)\\\\\n",
    "\\hdashline\n",
    "\\mathbf{u}_f(\\Omega)\n",
    "\\end{array}\n",
    "\\right]\n",
    "=\n",
    "\\left[\n",
    "\\begin{array}{c}\n",
    "\\mathbf{f}_c(\\Omega)\\\\\n",
    "\\hdashline\n",
    "\\mathbf{f}_f(\\Omega)\n",
    "\\end{array}\n",
    "\\right]\n",
    "$$\n",
    "\n",
    "We could easily derive from the second equation:\n",
    "$$\n",
    "\\mathbf{K}_{ff}(\\Omega)\\mathbf{u}_f(\\Omega)=\\mathbf{f}_f(\\Omega)-\\mathbf{K}_{fc}(\\Omega)\\mathbf{u}_c(\\Omega)\n",
    "$$\n",
    "\n",
    "In our case, functions `.GlobalConstrainedStiffness(Omega)` and  `.GlobalConstrainedForce(Omega)` implements theories above. \n",
    "\n",
    "Their outputs `Kc_global` and  `Fc_global` are $\\mathbf{f}_f(\\Omega)-\\mathbf{K}_{fc}(\\Omega)\\mathbf{u}_c(\\Omega)$ and $\\mathbf{K}_{ff}(\\Omega)\\mathbf{u}_c(\\Omega)$, respectively."
   ]
  },
  {
   "cell_type": "code",
   "execution_count": 16,
   "metadata": {},
   "outputs": [],
   "source": [
    "Kc_global = s1.GlobalConstrainedStiffness(Omega)\n",
    "Fc_global = s1.GlobalConstrainedForce(Omega)"
   ]
  },
  {
   "cell_type": "markdown",
   "metadata": {},
   "source": [
    "<div style=\"background-color:#AABAB2; color: black; vertical-align: middle; padding:15px; margin: 10px; border-radius: 10px\">\n",
    "<p>\n",
    "<b> Solve free-end displacement:</b> \n",
    "\n",
    "Now we want to solve free end displacement $\\mathbf{u}_{f}$ when $\\omega = \\Omega$ based on:\n",
    "\n",
    "$$\n",
    "\\mathbf{K}_{ff}(\\Omega)\\mathbf{u}_f(\\Omega)=\\mathbf{f}_f(\\Omega)-\\mathbf{K}_{fc}(\\Omega)\\mathbf{u}_c(\\Omega) \\Rightarrow \\mathbf{u}_f(\\Omega)=\\mathbf{K}^{-1}_{ff}(\\Omega)\\left\\{\\mathbf{f}_f(\\Omega)-\\mathbf{K}_{fc}(\\Omega)\\mathbf{u}_c(\\Omega)\\right\\}\n",
    "$$\n",
    "\n",
    "Our equation solver `.SolveUfree(Kc_globa,Fc_global)` implements idea above."
   ]
  },
  {
   "cell_type": "code",
   "execution_count": 17,
   "metadata": {},
   "outputs": [
    {
     "name": "stdout",
     "output_type": "stream",
     "text": [
      "The free end vibration solution is [0.02473982-0.0280495j]\n"
     ]
    }
   ],
   "source": [
    "u_free = s1.SolveUfree(Kc_global, Fc_global)\n",
    "print(f'The free end vibration solution is {u_free}')"
   ]
  },
  {
   "cell_type": "markdown",
   "metadata": {},
   "source": [
    "### Sanity check"
   ]
  },
  {
   "cell_type": "markdown",
   "metadata": {},
   "source": [
    "<div style=\"background-color:#AABAB2; color: black; vertical-align: middle; padding:15px; margin: 10px; border-radius: 10px\">\n",
    "<p>\n",
    "<b> Check Displacement and Reactions:</b> \n",
    "\n",
    "It's a good time to check the sanity of our method.\n",
    "\n",
    "Now make our harmonic excitation to have a single amplitude $\\hat{F}_0$ at all frequencies, then we will compute and plot\n",
    "\n",
    "- Free end displacement\n",
    "- Recations at fixed end\n",
    "\n",
    "over the freuqency range $\\omega_\\mathrm{test} = [0,1000] \\text{ rad/s}$.\n",
    "\n",
    "</div>"
   ]
  },
  {
   "cell_type": "code",
   "execution_count": 18,
   "metadata": {},
   "outputs": [
    {
     "name": "stdout",
     "output_type": "stream",
     "text": [
      "The omega values are [0.00000000e+00 1.00040016e+00 2.00080032e+00 ... 2.49799920e+03\n",
      " 2.49899960e+03 2.50000000e+03]\n",
      "2500\n",
      "Assembler '1D Rod with ViscoElastic Foundation' successfully initialised\n",
      "Global DOF 'x' for node 2 updated to 0.\n",
      "Global DOF 'x' with value '0' applied to connected elements.\n",
      "Global DOF 'z' for node 2 updated to 0.\n",
      "Global DOF 'z' with value '0' applied to connected elements.\n",
      "Global DOF 'phi_y' for node 2 updated to 0.\n",
      "Global DOF 'phi_y' with value '0' applied to connected elements.\n",
      "Global DOF 'z' for node 3 updated to 0.\n",
      "Global DOF 'z' with value '0' applied to connected elements.\n",
      "Global DOF 'phi_y' for node 3 updated to 0.\n",
      "Global DOF 'phi_y' with value '0' applied to connected elements.\n",
      "Successfully added element of type: Rod over viscoelastic foundation to Element 1\n"
     ]
    }
   ],
   "source": [
    "omega_values_check_test = np.linspace(0, 2500, 2500)\n",
    "\n",
    "print(f'The omega values are {omega_values_check_test}')\n",
    "# print(len(omega_values_check_test))\n",
    "\n",
    "displacements_check = []\n",
    "reaction_check = []\n",
    "\n",
    "s2 = Assembler('1D Rod with ViscoElastic Foundation',analysis_type='new')\n",
    "\n",
    "node3 = s2.CreateNode(0,0)\n",
    "node4 = s2.CreateNode(L,0)\n",
    "elem2 = s2.CreateElement([node3, node4])\n",
    "\n",
    "node3.fix_node('x','z', 'phi_y')\n",
    "node4.fix_node('z', 'phi_y')\n",
    "elem2.SetSection('Rod over viscoelastic foundation', {'E': E, 'A': A, 'rho': rho, 'ksi': ksi, 'L': L, 'kd': kd, 'cd': cd})\n",
    "s2.run_connectivity()\n",
    "\n",
    "node4.add_load(x=F_0)\n",
    "\n",
    "for omega_test in omega_values_check_test:\n",
    "\n",
    "    K_global_test = s2.GlobalStiffness(omega_test)\n",
    "    F_global_test = s2.GlobalForce(omega_test)\n",
    "\n",
    "    Kc_global_test = s2.GlobalConstrainedStiffness(omega_test)\n",
    "    Fc_global_test = s2.GlobalConstrainedForce(omega_test)\n",
    "\n",
    "    u_free = s2.SolveUfree(Kc_global_test, Fc_global_test) # Free end solution\n",
    "    H_fix =  s2.SupportReactions(K_global_test,u_free,F_global_test) # Reaction forces at the fixed end\n",
    "\n",
    "    displacements_check.append(u_free)\n",
    "    reaction_check.append(H_fix[0])"
   ]
  },
  {
   "cell_type": "markdown",
   "metadata": {},
   "source": [
    "<div style=\"background-color:#AABAB2; color: black; vertical-align: middle; padding:15px; margin: 10px; border-radius: 10px\">\n",
    "<p>\n",
    "<b> Displacement Plots:</b> \n",
    "\n",
    "By running codes in the cell above, we already have the displacement under harmonic loading with different loading frequencies, then we want to plot $\\mathrm{Re}\\left[\\tilde{u}_\\mathrm{free}(\\omega_\\mathrm{test})\\right]\\!-\\!\\omega$ and $\\mathrm{Im}\\left[\\tilde{u}_\\mathrm{free}(\\omega_\\mathrm{test})\\right]\\!-\\!\\omega_\\mathrm{test}$ curves.\n",
    "\n",
    "</div>"
   ]
  },
  {
   "cell_type": "code",
   "execution_count": 19,
   "metadata": {},
   "outputs": [
    {
     "data": {
      "image/png": "[encoded data removed]",
      "text/plain": [
       "<Figure size 800x400 with 1 Axes>"
      ]
     },
     "metadata": {},
     "output_type": "display_data"
    }
   ],
   "source": [
    "# %%% Plot the displacement results\n",
    "plt.figure(figsize=(8, 4))\n",
    "plt.plot(omega_values_check_test, [u.real for u in displacements_check], 'k',label='$\\mathrm{Re}(u)$')\n",
    "plt.plot(omega_values_check_test, [u.imag for u in displacements_check], 'r--',label='$\\mathrm{Im}(u)$')\n",
    "plt.xlabel('Frequency ($\\omega_\\mathrm{test}$)')\n",
    "plt.ylabel('Free End Displacement $\\mathrm{Re}(u)$ and $\\mathrm{Im}(u)$')\n",
    "plt.title('Free End Displacement vs Loading Frequency')\n",
    "# plt.xlim(0, 1000)\n",
    "plt.legend()\n",
    "plt.grid(True)\n",
    "plt.show()"
   ]
  },
  {
   "cell_type": "code",
   "execution_count": 20,
   "metadata": {},
   "outputs": [],
   "source": [
    "# print(ksi)\n",
    "# print(type(elem))\n",
    "# print(type(s1))"
   ]
  },
  {
   "cell_type": "code",
   "execution_count": 21,
   "metadata": {},
   "outputs": [],
   "source": [
    "# print(f'The stiffness matrix is {K_global}')"
   ]
  },
  {
   "cell_type": "markdown",
   "metadata": {},
   "source": [
    "<div style=\"background-color:#AABAB2; color: black; vertical-align: middle; padding:15px; margin: 10px; border-radius: 10px\">\n",
    "<p>\n",
    "<b> Sanity Checks to compare Maple & Python:</b> \n",
    "\n",
    "Let's also compare few other results with those from Maple. You are encouraged to do this in Maple and verify the results for different set of values. The Maple files with similar values are made available to you!"
   ]
  },
  {
   "cell_type": "code",
   "execution_count": 22,
   "metadata": {},
   "outputs": [],
   "source": [
    "from pydynsm.elements import Rod1D_foundation\n",
    "\n",
    "# define material properties here\n",
    "E = 7e6                                  # Young's modulus\n",
    "A = 1                                 # Cross-sectional area\n",
    "rho = 1e3                                  # Density\n",
    "ksi = 0.01                                 # Damping coefficient\n",
    "\n",
    "# define geometrical properties here\n",
    "L = 1                                      # Length of the rod\n",
    "\n",
    "# define loading parameters here\n",
    "# F_0 = 1e06                            # Force amplitude                                  \n",
    "F_0 = 1e06 + 0j                            # Force amplitude                                  \n",
    "Omega = 100                                # Force frequency\n",
    "\n",
    "kd = 1e06                             # Distributed Spring stiffness\n",
    "cd = 1e06                             # Distributed damping coefficient"
   ]
  },
  {
   "cell_type": "markdown",
   "metadata": {},
   "source": [
    "Let's compare the values of Wavenumbers!"
   ]
  },
  {
   "cell_type": "code",
   "execution_count": 23,
   "metadata": {},
   "outputs": [
    {
     "name": "stdout",
     "output_type": "stream",
     "text": [
      "((2.7694933714741006-2.582729829986666j), (-2.7694933714741006+2.582729829986666j))\n"
     ]
    }
   ],
   "source": [
    "# Print wave numbers\n",
    "Rod_check = Rod1D_foundation(rho, A, E, L, kd, ksi, cd)\n",
    "\n",
    "print(Rod_check.ElementWaveNumbers(Omega))"
   ]
  },
  {
   "cell_type": "markdown",
   "metadata": {},
   "source": [
    "Let's look at the DSM, $K_d$"
   ]
  },
  {
   "cell_type": "code",
   "execution_count": 24,
   "metadata": {},
   "outputs": [
    {
     "name": "stdout",
     "output_type": "stream",
     "text": [
      "[[17686039.51704487+20052072.23937558j\n",
      "   1396955.30843527 +3773737.06402942j]\n",
      " [ 1396955.30843527 +3773737.06402942j\n",
      "  17686039.51704487+20052072.23937558j]]\n"
     ]
    }
   ],
   "source": [
    "DSM_Kd = Rod_check.LocalStiffness(Omega)\n",
    "print(DSM_Kd)"
   ]
  }
 ],
 "metadata": {
  "kernelspec": {
   "display_name": "mude-opt",
   "language": "python",
   "name": "python3"
  },
  "language_info": {
   "codemirror_mode": {
    "name": "ipython",
    "version": 3
   },
   "file_extension": ".py",
   "mimetype": "text/x-python",
   "name": "python",
   "nbconvert_exporter": "python",
   "pygments_lexer": "ipython3",
   "version": "3.11.5"
  }
 },
 "nbformat": 4,
 "nbformat_minor": 2
}
